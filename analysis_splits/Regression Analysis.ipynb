{
 "cells": [
  {
   "cell_type": "markdown",
   "id": "c78212ef",
   "metadata": {},
   "source": [
    "# Regression Analysis"
   ]
  },
  {
   "cell_type": "markdown",
   "id": "2eefd29b",
   "metadata": {},
   "source": [
    "Load in required R packages"
   ]
  },
  {
   "cell_type": "code",
   "execution_count": null,
   "id": "1fecc88a",
   "metadata": {},
   "outputs": [],
   "source": [
    "library(stats)\n",
    "library(dplyr)\n",
    "library(caret)\n",
    "install.packages('ROCR')\n",
    "install.packages('ini')\n",
    "library('ini')\n",
    "data = read.csv('StudyData.csv')"
   ]
  },
  {
   "cell_type": "markdown",
   "id": "9e6fd56e",
   "metadata": {},
   "source": [
    "Relevant columns selected from data"
   ]
  },
  {
   "cell_type": "code",
   "execution_count": null,
   "id": "f4721558",
   "metadata": {},
   "outputs": [],
   "source": [
    "study_data = data %>% select(participant_identifier, smoker_status, language, wearing_mask, covid_test_result, covid_test_method, ethnicity, age, gender,\n",
    "       recruitment_source, submission_delay, symptom_fatigue, symptom_new_continuous_cough, symptom_diarrhoea, symptom_headache, symptom_runny_or_blocked_nose,\n",
    "       symptom_sore_throat, symptom_fever_high_temperature, symptom_change_to_sense_of_smell_or_taste,\n",
    "       symptom_shortness_of_breath, symptom_abdominal_pain, symptom_loss_of_taste, symptom_cough_any, symptom_other,\n",
    "       respiratory_condition_asthma, respiratory_condition_copd_or_emphysema, respiratory_condition_other,\n",
    "       height, weight, pseudonymised_local_authority_code, covid_viral_load_category, covid_vaccine_doses)"
   ]
  },
  {
   "cell_type": "markdown",
   "id": "12dc8d35",
   "metadata": {},
   "source": [
    "R Variable types are assigned to each variable"
   ]
  },
  {
   "cell_type": "code",
   "execution_count": null,
   "id": "817028d4",
   "metadata": {},
   "outputs": [],
   "source": [
    "study_data$age = as.numeric(study_data$age)\n",
    "study_data$height = replace(study_data$height, which(study_data$height == 'Prefer not to say'), NA)\n",
    "study_data$height = replace(study_data$height, which(study_data$height == '<=90'), 90)\n",
    "study_data$height = as.numeric(study_data$height)\n",
    "study_data$weight = replace(study_data$weight, which(study_data$weight == 'Prefer not to say'), NA)\n",
    "study_data$weight = as.numeric(study_data$weight)\n",
    "study_data$smoker_status = replace(study_data$smoker_status, which(study_data$smoker_status == 'Prefer not to say'), NA)\n",
    "study_data$smoker_status = as.factor(study_data$smoker_status)\n",
    "levels(study_data$smoker_status) = c('Never smoked', 'Ex-smoker', 'Current smoker (e-cigarettes or vapes only)', 'Current smoker (1 to 10 cigarettes per day)', 'Current smoker (11 or more cigarettes per day)')\n",
    "study_data$language = as.factor(study_data$language)\n",
    "study_data$wearing_mask = as.factor(study_data$wearing_mask)\n",
    "study_data$covid_test_method = as.factor(study_data$covid_test_method)\n",
    "study_data$covid_test_result = as.factor(study_data$covid_test_result)\n",
    "study_data$ethnicity = as.factor(study_data$ethnicity)\n",
    "study_data$gender = replace(study_data$gender, which(study_data$gender == 'Unknown'), NA)\n",
    "study_data$gender = as.factor(study_data$gender)\n",
    "study_data$symptom_cough_any = as.factor(study_data$symptom_cough_any)\n",
    "study_data$symptom_new_continuous_cough = as.factor(study_data$symptom_new_continuous_cough)\n",
    "study_data$symptom_shortness_of_breath = as.factor(study_data$symptom_shortness_of_breath)\n",
    "study_data$symptom_abdominal_pain = as.factor(study_data$symptom_abdominal_pain)\n",
    "study_data$symptom_diarrhoea = as.factor(study_data$symptom_diarrhoea)\n",
    "study_data$symptom_fatigue = as.factor(study_data$symptom_fatigue)\n",
    "study_data$symptom_fever_high_temperature = as.factor(study_data$symptom_fever_high_temperature)\n",
    "study_data$symptom_headache = as.factor(study_data$symptom_headache)\n",
    "study_data$symptom_fever_high_temperature = as.factor(study_data$symptom_fever_high_temperature)\n",
    "study_data$symptom_headache = as.factor(study_data$symptom_headache)\n",
    "study_data$symptom_change_to_sense_of_smell_or_taste = as.factor(study_data$symptom_change_to_sense_of_smell_or_taste)\n",
    "study_data$symptom_other = as.factor(study_data$symptom_other)\n",
    "study_data$symptom_loss_of_taste = as.factor(study_data$symptom_loss_of_taste)\n",
    "study_data$respiratory_condition_asthma = as.factor(study_data$respiratory_condition_asthma)\n",
    "study_data$respiratory_condition_copd_or_emphysema = as.factor(study_data$respiratory_condition_copd_or_emphysema)\n",
    "study_data$respiratory_condition_other = as.factor(study_data$respiratory_condition_other)\n",
    "study_data$covid_vaccine_doses = as.factor(study_data$covid_vaccine_doses)\n",
    "study_data$pseudonymised_local_authority_code = as.factor(study_data$pseudonymised_local_authority_code)"
   ]
  },
  {
   "cell_type": "markdown",
   "id": "b8ca03a0",
   "metadata": {},
   "source": [
    "## Train Test Split"
   ]
  },
  {
   "cell_type": "markdown",
   "id": "f90af6a4",
   "metadata": {},
   "source": [
    "### Designed Train Test Split"
   ]
  },
  {
   "cell_type": "markdown",
   "id": "ccf2a04c",
   "metadata": {},
   "source": [
    "Load train test split from pkl file outputted in Exploratory Analysis and Split Generation.ipynb"
   ]
  },
  {
   "cell_type": "code",
   "execution_count": null,
   "id": "f2957b1e",
   "metadata": {},
   "outputs": [],
   "source": [
    "library(reticulate)\n",
    "source_python(\"split_reader.py\")\n",
    "pickle_data <- read_pickle_file(\"original_split_stage1.pkl\")"
   ]
  },
  {
   "cell_type": "markdown",
   "id": "712ed0fe",
   "metadata": {},
   "source": [
    "Set up train and test set objects"
   ]
  },
  {
   "cell_type": "code",
   "execution_count": null,
   "id": "25362ac0",
   "metadata": {},
   "outputs": [],
   "source": [
    "train_ids = pickle_data$train\n",
    "test_ids = pickle_data$test\n",
    "\n",
    "train = study_data[study_data$participant_identifier %in% train_ids,]\n",
    "test = study_data[study_data$participant_identifier %in% test_ids,]"
   ]
  },
  {
   "cell_type": "markdown",
   "id": "443b828c",
   "metadata": {},
   "source": [
    "Logistic regression model with relevant variables and interaction terms"
   ]
  },
  {
   "cell_type": "code",
   "execution_count": null,
   "id": "6d4e7f5e",
   "metadata": {},
   "outputs": [],
   "source": [
    "full_mod_designed = glm(covid_test_result ~ smoker_status + age + gender + symptom_cough_any + symptom_new_continuous_cough + symptom_runny_or_blocked_nose \n",
    "                 + symptom_shortness_of_breath + symptom_sore_throat + symptom_abdominal_pain + symptom_diarrhoea + symptom_fatigue \n",
    "                 + symptom_fever_high_temperature + symptom_headache + symptom_change_to_sense_of_smell_or_taste + symptom_loss_of_taste + respiratory_condition_asthma + height + weight\n",
    "                 + covid_vaccine_doses + respiratory_condition_asthma*symptom_cough_any + respiratory_condition_asthma*symptom_new_continuous_cough + respiratory_condition_asthma*symptom_shortness_of_breath + respiratory_condition_asthma*symptom_diarrhoea\n",
    "                 + respiratory_condition_asthma*symptom_fatigue + respiratory_condition_asthma*symptom_headache + respiratory_condition_asthma*symptom_fever_high_temperature + respiratory_condition_asthma*symptom_change_to_sense_of_smell_or_taste\n",
    "                 + respiratory_condition_asthma*symptom_loss_of_taste + respiratory_condition_asthma*symptom_abdominal_pain + age*gender + age*height + age*weight\n",
    "                 + gender*height + gender*weight \n",
    "                 + gender*symptom_cough_any + gender*symptom_new_continuous_cough + gender*symptom_shortness_of_breath + gender*symptom_diarrhoea\n",
    "                 + gender*symptom_fatigue + gender*symptom_headache + gender*symptom_fever_high_temperature + gender*symptom_change_to_sense_of_smell_or_taste\n",
    "                 + gender*symptom_loss_of_taste + gender*symptom_abdominal_pain\n",
    "                 + age*symptom_cough_any + age*symptom_new_continuous_cough + age*symptom_shortness_of_breath + age*symptom_diarrhoea\n",
    "                 + age*symptom_fatigue + age*symptom_headache + age*symptom_fever_high_temperature + age*symptom_change_to_sense_of_smell_or_taste\n",
    "                 + age*symptom_loss_of_taste + age*symptom_abdominal_pain\n",
    "               , data = train, family='binomial')"
   ]
  },
  {
   "cell_type": "markdown",
   "id": "ebf64bda",
   "metadata": {},
   "source": [
    "Stepwise model selection using step function (AIC as the model selection criteria)"
   ]
  },
  {
   "cell_type": "code",
   "execution_count": null,
   "id": "01403bcb",
   "metadata": {},
   "outputs": [],
   "source": [
    "red_mod_designed = step(full_mod_designed)"
   ]
  },
  {
   "cell_type": "code",
   "execution_count": null,
   "id": "74df36bc",
   "metadata": {},
   "outputs": [],
   "source": [
    "sum = summary(red_mod_designed)\n",
    "plot(red_mod_designed)"
   ]
  },
  {
   "cell_type": "markdown",
   "id": "1231fdc6",
   "metadata": {},
   "source": [
    "Performance on training set"
   ]
  },
  {
   "cell_type": "code",
   "execution_count": null,
   "id": "876392ae",
   "metadata": {},
   "outputs": [],
   "source": [
    "train_roc = na.omit(train)\n",
    "library(ROCR)\n",
    "pred = predict(red_mod_designed, train_roc)\n",
    "pred = prediction(pred, train_roc$covid_test_result)\n",
    "roc = performance(pred,\"tpr\",\"fpr\")\n",
    "plot(roc, lwd = 2, title = 'Accuracy on Training Set')\n",
    "abline(a = 0, b = 1) \n",
    "auc = performance(pred, measure = \"auc\")\n",
    "print(auc@y.values)"
   ]
  },
  {
   "cell_type": "markdown",
   "id": "c8751c75",
   "metadata": {},
   "source": [
    "Performance on test Set"
   ]
  },
  {
   "cell_type": "code",
   "execution_count": null,
   "id": "c1568afa",
   "metadata": {},
   "outputs": [],
   "source": [
    "test_roc = na.omit(test)\n",
    "library(ROCR)\n",
    "pred = predict(red_mod_designed, test_roc)\n",
    "pred = prediction(pred, test_roc$covid_test_result)\n",
    "roc = performance(pred,\"tpr\",\"fpr\")\n",
    "plot(roc, lwd = 2, title = 'Accuracy on Training Set')\n",
    "abline(a = 0, b = 1) \n",
    "auc = performance(pred, measure = \"auc\")\n",
    "print(auc@y.values)"
   ]
  },
  {
   "cell_type": "markdown",
   "id": "2504acf4",
   "metadata": {},
   "source": [
    "### Other train test splits"
   ]
  },
  {
   "cell_type": "markdown",
   "id": "3903d340",
   "metadata": {},
   "source": [
    "Load other train test splits - s3 details retrieved from config file"
   ]
  },
  {
   "cell_type": "code",
   "execution_count": null,
   "id": "a130c233",
   "metadata": {},
   "outputs": [],
   "source": [
    "config_filepath = 's3_config.ini'\n",
    "config = read.ini(config_filepath)\n",
    "s3_path = paste(\"s3://\", config$S3$bucket, \"/\", config$S3$splits_path, sep=\"\") \n",
    "region = config$S3$region"
   ]
  },
  {
   "cell_type": "code",
   "execution_count": null,
   "id": "36408d0f",
   "metadata": {},
   "outputs": [],
   "source": [
    "install.packages('aws.s3')\n",
    "Sys.setenv(\"AWS_DEFAULT_REGION\" = region)\n",
    "train_test_splits <- aws.s3::s3read_using(read.csv, object = s3_path)"
   ]
  },
  {
   "cell_type": "markdown",
   "id": "ad931ce1",
   "metadata": {},
   "source": [
    "#### Matched Test Set"
   ]
  },
  {
   "cell_type": "markdown",
   "id": "481ad455",
   "metadata": {},
   "source": [
    "Evaluate the accuracy of the trained model on the matched test set"
   ]
  },
  {
   "cell_type": "code",
   "execution_count": null,
   "id": "9417f1c1",
   "metadata": {},
   "outputs": [],
   "source": [
    "test_matched_ids = train_test_splits[(train_test_splits$in_matched_original_test == 'True'),]$participant_identifier\n",
    "test_matched_roc = study_data[study_data$participant_identifier %in% test_matched_ids,]\n",
    "test_matched_roc = na.omit(test_matched_roc)\n",
    "pred = predict(red_mod_designed, test_matched_roc)\n",
    "pred = prediction(pred, test_matched_roc$covid_test_result)\n",
    "roc = performance(pred,\"tpr\",\"fpr\")\n",
    "plot(roc, lwd = 2, title = 'Accuracy on Training Set')\n",
    "abline(a = 0, b = 1) \n",
    "auc = performance(pred, measure = \"auc\")\n",
    "print(auc@y.values)"
   ]
  },
  {
   "cell_type": "markdown",
   "id": "5e2ab5a5",
   "metadata": {},
   "source": [
    "#### Randomised Train Test Split"
   ]
  },
  {
   "cell_type": "markdown",
   "id": "d5c3a981",
   "metadata": {},
   "source": [
    "Same step wise selection procedure to train a logistic regression using a randomised train-test split."
   ]
  },
  {
   "cell_type": "code",
   "execution_count": null,
   "id": "df6dd2ae",
   "metadata": {},
   "outputs": [],
   "source": [
    "train_random_ids = train_test_splits[(train_test_splits$naive_splits == 'train') | (train_test_splits$naive_splits == 'val'),]$participant_identifier\n",
    "test_random_ids = train_test_splits[(train_test_splits$naive_splits == 'test'),]$participant_identifier"
   ]
  },
  {
   "cell_type": "code",
   "execution_count": null,
   "id": "9b215819",
   "metadata": {},
   "outputs": [],
   "source": [
    "train_random = study_data[study_data$participant_identifier %in% train_random_ids,]\n",
    "test_random = study_data[study_data$participant_identifier %in% test_random_ids,]"
   ]
  },
  {
   "cell_type": "code",
   "execution_count": null,
   "id": "ddb11b3f",
   "metadata": {},
   "outputs": [],
   "source": [
    "full_mod_random = glm(covid_test_result ~ smoker_status + age + gender + symptom_cough_any + symptom_new_continuous_cough + symptom_runny_or_blocked_nose \n",
    "                 + symptom_shortness_of_breath + symptom_sore_throat + symptom_abdominal_pain + symptom_diarrhoea + symptom_fatigue \n",
    "                 + symptom_fever_high_temperature + symptom_headache + symptom_change_to_sense_of_smell_or_taste + symptom_loss_of_taste + respiratory_condition_asthma + height + weight\n",
    "                 + covid_vaccine_doses + respiratory_condition_asthma*symptom_cough_any + respiratory_condition_asthma*symptom_new_continuous_cough + respiratory_condition_asthma*symptom_shortness_of_breath + respiratory_condition_asthma*symptom_diarrhoea\n",
    "                 + respiratory_condition_asthma*symptom_fatigue + respiratory_condition_asthma*symptom_headache + respiratory_condition_asthma*symptom_fever_high_temperature + respiratory_condition_asthma*symptom_change_to_sense_of_smell_or_taste\n",
    "                 + respiratory_condition_asthma*symptom_loss_of_taste + respiratory_condition_asthma*symptom_abdominal_pain + age*gender + age*height + age*weight\n",
    "                 + gender*height + gender*weight \n",
    "                 + gender*symptom_cough_any + gender*symptom_new_continuous_cough + gender*symptom_shortness_of_breath + gender*symptom_diarrhoea\n",
    "                 + gender*symptom_fatigue + gender*symptom_headache + gender*symptom_fever_high_temperature + gender*symptom_change_to_sense_of_smell_or_taste\n",
    "                 + gender*symptom_loss_of_taste + gender*symptom_abdominal_pain\n",
    "                 + age*symptom_cough_any + age*symptom_new_continuous_cough + age*symptom_shortness_of_breath + age*symptom_diarrhoea\n",
    "                 + age*symptom_fatigue + age*symptom_headache + age*symptom_fever_high_temperature + age*symptom_change_to_sense_of_smell_or_taste\n",
    "                 + age*symptom_loss_of_taste + age*symptom_abdominal_pain\n",
    "               , data = train_random, family='binomial')"
   ]
  },
  {
   "cell_type": "code",
   "execution_count": null,
   "id": "229af878",
   "metadata": {},
   "outputs": [],
   "source": [
    "red_mod_random = step(full_mod_random)"
   ]
  },
  {
   "cell_type": "markdown",
   "id": "344ad0a5",
   "metadata": {},
   "source": [
    "Evaluate randomised split logistic regression model on test set"
   ]
  },
  {
   "cell_type": "code",
   "execution_count": null,
   "id": "bf02048d",
   "metadata": {},
   "outputs": [],
   "source": [
    "test_random_roc = na.omit(test_random)\n",
    "pred = predict(red_mod_random, test_random_roc)\n",
    "pred = prediction(pred, test_random_roc$covid_test_result)\n",
    "roc = performance(pred,\"tpr\",\"fpr\")\n",
    "plot(roc, lwd = 2, title = 'Accuracy on Randomised Test Set')\n",
    "abline(a = 0, b = 1) \n",
    "auc = performance(pred, measure = \"auc\")\n",
    "print(auc@y.values)"
   ]
  }
 ],
 "metadata": {
  "kernelspec": {
   "display_name": "R",
   "language": "R",
   "name": "ir"
  },
  "language_info": {
   "codemirror_mode": "r",
   "file_extension": ".r",
   "mimetype": "text/x-r-source",
   "name": "R",
   "pygments_lexer": "r",
   "version": "4.1.3"
  }
 },
 "nbformat": 4,
 "nbformat_minor": 5
}
