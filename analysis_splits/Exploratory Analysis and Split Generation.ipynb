{
 "cells": [
  {
   "cell_type": "markdown",
   "id": "d17f9976",
   "metadata": {},
   "source": [
    "# Generate Train Test Split"
   ]
  },
  {
   "cell_type": "markdown",
   "id": "124f4055",
   "metadata": {},
   "source": [
    "Import packages"
   ]
  },
  {
   "cell_type": "code",
   "execution_count": null,
   "id": "792f2e59",
   "metadata": {},
   "outputs": [],
   "source": [
    "import matplotlib\n",
    "import seaborn as sns\n",
    "from cycler import cycler\n",
    "col_lst = ['#007C91', '#003B5C', '#582C83', '#1D57A5', '#8A1B61', '#E40046', '#00AB8E', '#00A5DF', '#84BD00', '#FF7F32', '#FFB81C', '#D5CB9F']\n",
    "ukhsa_cycler = (cycler(color=['#007C91', '#003B5C', '#582C83', '#1D57A5', '#8A1B61', '#E40046', '#00AB8E', '#00A5DF', '#84BD00', '#FF7F32', '#FFB81C', '#D5CB9F']))\n",
    "import pandas\n",
    "from matplotlib import pyplot as plt\n",
    "import pandas as pd\n",
    "!pip install geopandas\n",
    "import geopandas\n",
    "import numpy as np\n",
    "import ciab_data as uf\n",
    "import sys\n",
    "import pickle as pkl\n",
    "import warnings\n",
    "from configparser import ConfigParser\n",
    "warnings.filterwarnings ('ignore')"
   ]
  },
  {
   "cell_type": "markdown",
   "id": "60233f07",
   "metadata": {},
   "source": [
    "Retrieve S3 config"
   ]
  },
  {
   "cell_type": "code",
   "execution_count": null,
   "id": "cee8f254",
   "metadata": {},
   "outputs": [],
   "source": [
    "config_filepath = 's3_config.ini'\n",
    "config = ConfigParser()\n",
    "config.read(config_filepath)\n",
    "bucket_name = config['S3']['bucket']\n",
    "original_split_path = config['S3']['original_split_path']\n",
    "rebalanced_split_path = config['S3']['rebalanced_split_path']\n",
    "splits_path = config['S3']['splits_path']"
   ]
  },
  {
   "cell_type": "markdown",
   "id": "383fdf3b",
   "metadata": {},
   "source": [
    "Initialise CIAB data class, filter missing data from the whole dataset and save to csv for use in logistic regression modelling"
   ]
  },
  {
   "cell_type": "code",
   "execution_count": null,
   "id": "bd1a1b5d",
   "metadata": {},
   "outputs": [],
   "source": [
    "ciab_data = uf.CIAB_Data()\n",
    "study_data = ciab_data.filter_missing_data(type='all', analyse=False, save_figures=False)\n",
    "study_data.to_csv('StudyData.csv')"
   ]
  },
  {
   "cell_type": "markdown",
   "id": "97899cf6",
   "metadata": {},
   "source": [
    "Generate original train test split with all asymptomatics held for the test set."
   ]
  },
  {
   "cell_type": "code",
   "execution_count": null,
   "id": "cb031e2b",
   "metadata": {},
   "outputs": [],
   "source": [
    "train_test_split = ciab_data.train_test_split(print_summary=True)"
   ]
  },
  {
   "cell_type": "markdown",
   "id": "3cb8f2c5",
   "metadata": {},
   "source": [
    "Generate rebalanced test set where ~half asymptomatics are held for the test set"
   ]
  },
  {
   "cell_type": "code",
   "execution_count": null,
   "id": "a53bd063",
   "metadata": {},
   "outputs": [],
   "source": [
    "train_test_split_asymp = ciab_data.train_test_split(print_summary=True, asymptomatics_in_train=True)"
   ]
  },
  {
   "cell_type": "code",
   "execution_count": null,
   "id": "18705884",
   "metadata": {},
   "outputs": [],
   "source": [
    "split_pkl1 = open('original_split_stage1.pkl', 'wb') \n",
    "pkl.dump(train_test_split, split_pkl1)\n",
    "\n",
    "split_pkl2 = open('rebalanced_split_stage1.pkl', 'wb') \n",
    "pkl.dump(train_test_split_asymp, split_pkl2)\n",
    "\n",
    "import boto3\n",
    "s3 = boto3.client('s3')\n",
    "with open('original_split_stage1.pkl', 'rb') as f:\n",
    "    s3.put_object(Bucket=bucket_name,\n",
    "                  Key=original_split_path,\n",
    "                  Body=f\n",
    "                 )\n",
    "with open('rebalanced_split_stage1.pkl', 'rb') as f:\n",
    "    s3.put_object(Bucket=bucket_name,\n",
    "                  Key=rebalanced_split_path,\n",
    "                  Body=f\n",
    "                 )"
   ]
  },
  {
   "cell_type": "code",
   "execution_count": null,
   "id": "82d26fee",
   "metadata": {},
   "outputs": [],
   "source": [
    "splits_df = ciab_data.raw_study_data[['participant_identifier']]\n",
    "splits_df['splits'] = splits_df['participant_identifier'].apply(lambda x: 'train' if x in train_test_split_asymp['train'] else ('test' if x in train_test_split_asymp['test'] else ('long' if x in train_test_split_asymp['longitudinal'] else 'Not Used')))\n",
    "splits_df['original_splits'] = splits_df['participant_identifier'].apply(lambda x: 'train' if x in train_test_split['train'] else ('test' if x in train_test_split['test'] else ('long' if x in train_test_split['longitudinal'] else 'Not Used')))\n",
    "splits_df.to_csv('train_test_splits_stage1.csv')\n",
    "\n",
    "\n",
    "import boto3\n",
    "s3 = boto3.client('s3')\n",
    "with open('train_test_splits_stage1.csv', 'rb') as f:\n",
    "    s3.put_object(Bucket=bucket_name,\n",
    "                  Key=splits_path,\n",
    "                  Body=f\n",
    "                 )"
   ]
  },
  {
   "cell_type": "markdown",
   "id": "deac6f52",
   "metadata": {},
   "source": [
    "# Meta-data Analysis"
   ]
  },
  {
   "cell_type": "markdown",
   "id": "67230dee",
   "metadata": {},
   "source": [
    "Print some statistics around submission dates and submission counts within the train-test set and longitudinal set"
   ]
  },
  {
   "cell_type": "code",
   "execution_count": null,
   "id": "b0172fc3",
   "metadata": {},
   "outputs": [],
   "source": [
    "raw_data = ciab_data.raw_study_data\n",
    "\n",
    "print('Earliest submission: ' + min(raw_data['submission_date']).strftime('%dst %B %Y'))\n",
    "print('Latest Submission: ' + max(raw_data['submission_date']).strftime('%dth %B %Y'))\n",
    "\n",
    "print('Total Raw Submissions: ' + str(len(raw_data)))\n",
    "\n",
    "filtered_raw_data = ciab_data.filter_missing_data(type='all', analyse=False, save_figures=False)\n",
    "print('Total Filtered Submissions: ' + str(len(filtered_raw_data)))\n",
    "\n",
    "pre_nov29_study_data = ciab_data.raw_study_data.loc[pd.to_datetime(ciab_data.raw_study_data['submission_date']) + pd.to_timedelta(ciab_data.raw_study_data['submission_hour'], unit='H') <= '2021-11-29']\n",
    "\n",
    "print('Total Pre Nov 29th Raw Submissions: ' + str(len(pre_nov29_study_data)))\n",
    "\n",
    "filtered_pre_nov29_study_data = ciab_data.filter_missing_data(type='train_test', analyse=False, save_figures=False)\n",
    "print('Total Pre Nov 29th Filtered Submissions: ' + str(len(filtered_pre_nov29_study_data)))"
   ]
  },
  {
   "cell_type": "markdown",
   "id": "0ae1ae73",
   "metadata": {},
   "source": [
    "Analyse the train-test dataset, print out json data summary and save plots to 'figures' folder"
   ]
  },
  {
   "cell_type": "code",
   "execution_count": null,
   "id": "b049fdef",
   "metadata": {},
   "outputs": [],
   "source": [
    "train_test = ciab_data.filter_missing_data(type='train_test', analyse=True, save_figures=True)"
   ]
  },
  {
   "cell_type": "markdown",
   "id": "5036fa0f",
   "metadata": {},
   "source": [
    "Printing some statistics used within the Pigoli et. al. paper"
   ]
  },
  {
   "cell_type": "code",
   "execution_count": null,
   "id": "b0a36718",
   "metadata": {},
   "outputs": [],
   "source": [
    "print('Number of Asymptomatics: ' + str(len(train_test.loc[(train_test['symptom_none'] == 1) & (train_test['covid_test_result'] == 'Positive')])))"
   ]
  },
  {
   "cell_type": "code",
   "execution_count": null,
   "id": "47b6c2c2",
   "metadata": {},
   "outputs": [],
   "source": [
    "print('Median age of Covid + participants: ' + str(np.median(train_test.loc[train_test['covid_test_result'] == 'Positive']['age'])))\n",
    "print('Median age of Covid - participants: ' + str(np.median(train_test.loc[train_test['covid_test_result'] == 'Negative']['age'])))\n",
    "print('Median age of asymptomatics: ' + str(np.median(train_test.loc[(train_test['symptom_none'] == 1) & (train_test['covid_test_result'] == 'Positive')]['age'])))"
   ]
  },
  {
   "cell_type": "code",
   "execution_count": null,
   "id": "c8193a15",
   "metadata": {},
   "outputs": [],
   "source": [
    "print('Number of Males: ' + str(len(train_test.loc[train_test['gender'] == 'Male'])))\n",
    "print('Number of Males: ' + str(len(train_test.loc[train_test['gender'] == 'Female'])))"
   ]
  },
  {
   "cell_type": "markdown",
   "id": "520a1156",
   "metadata": {},
   "source": [
    "Generating some other plots and tables used within the Pigoli et. al. paper:\n",
    "* Gender split by test result\n",
    "* Submission over time by recruitment source\n",
    "* Age by Test Result split by Gender\n",
    "* Symptom combinations frequency count split by recruitment source\n",
    "* Cross tables of Symptoms, Recruitment Source and Covid-19 infection status"
   ]
  },
  {
   "cell_type": "code",
   "execution_count": null,
   "id": "3bbc75b3",
   "metadata": {},
   "outputs": [],
   "source": [
    "covid_by_gender = train_test[['gender', 'covid_test_result']]\n",
    "covid_by_gender.columns = ['Gender', 'Covid Test Result']\n",
    "ax = pd.crosstab(covid_by_gender['Gender'], covid_by_gender['Covid Test Result'], margins=False).plot.barh(stacked=True, color = ['#E40046', '#00AB8E'])\n",
    "ax.set_xlabel('Frequency')\n",
    "ax.set_ylabel('Gender')\n",
    "plt.savefig('figures/covid_by_gender.png')"
   ]
  },
  {
   "cell_type": "code",
   "execution_count": null,
   "id": "fe21984f",
   "metadata": {},
   "outputs": [],
   "source": [
    "train_test['submission_time'] = pd.to_datetime(train_test['submission_date']) + pd.to_timedelta(train_test['submission_hour'], unit='H')"
   ]
  },
  {
   "cell_type": "code",
   "execution_count": null,
   "id": "d52e87a4",
   "metadata": {},
   "outputs": [],
   "source": [
    "recruitment_time = train_test[['recruitment_source','submission_time', 'covid_test_result']]\n",
    "recruitment_time['recruitment_source_agg'] = recruitment_time['recruitment_source'].apply(lambda x: x if x.strip() == 'Test and Trace' else 'REACT')\n",
    "base = min(recruitment_time['submission_time'])\n",
    "m = max(recruitment_time['submission_time'])\n",
    "import datetime\n",
    "num_days = 265\n",
    "base + datetime.timedelta(days=num_days)"
   ]
  },
  {
   "cell_type": "code",
   "execution_count": null,
   "id": "8a26b67b",
   "metadata": {},
   "outputs": [],
   "source": [
    "dates = []\n",
    "tnt_positives = {}\n",
    "tnt_negatives = {}\n",
    "r_positives = {}\n",
    "r_negatives = {}\n",
    "for x in [x*2 for x in range(int((num_days+2)/2))]:\n",
    "    x = x-1\n",
    "    date = base + datetime.timedelta(days = x)\n",
    "    dates = dates + [date]\n",
    "    tnt_positives[date] = len(recruitment_time.loc[(recruitment_time['covid_test_result'] == 'Positive') & (recruitment_time['submission_time'] < date) & (recruitment_time['recruitment_source_agg'] == 'Test and Trace')]['submission_time'])\n",
    "    tnt_negatives[date] = len(recruitment_time.loc[(recruitment_time['covid_test_result'] == 'Negative') & (recruitment_time['submission_time'] < date) & (recruitment_time['recruitment_source_agg'] == 'Test and Trace')]['submission_time'])\n",
    "    r_positives[date] = len(recruitment_time.loc[(recruitment_time['covid_test_result'] == 'Positive') & (recruitment_time['submission_time'] < date) & (recruitment_time['recruitment_source_agg'] == 'REACT')]['submission_time'])\n",
    "    r_negatives[date] = len(recruitment_time.loc[(recruitment_time['covid_test_result'] == 'Negative') & (recruitment_time['submission_time'] < date) & (recruitment_time['recruitment_source_agg'] == 'REACT')]['submission_time'])\n",
    "\n",
    "\n",
    "\n",
    "plotting_df = pd.DataFrame(dates, columns = ['Date'])\n",
    "plotting_df['Test and Trace Positives'] = plotting_df['Date'].apply(lambda x: tnt_positives[x])\n",
    "plotting_df['Test and Trace Negatives'] = plotting_df['Date'].apply(lambda x: tnt_negatives[x])\n",
    "plotting_df['REACT Positives'] = plotting_df['Date'].apply(lambda x: r_positives[x])\n",
    "plotting_df['REACT Negatives'] = plotting_df['Date'].apply(lambda x: r_negatives[x])\n",
    "\n",
    "from matplotlib.transforms import Bbox\n",
    "small = min(plotting_df['Date'])\n",
    "med = base + datetime.timedelta(days = int(num_days/2))\n",
    "large = max(plotting_df['Date'])\n",
    "\n",
    "plt.plot(plotting_df['Date'], plotting_df['Test and Trace Positives'], 'r--', label = 'Test and Trace Positives')\n",
    "plt.plot(plotting_df['Date'], plotting_df['Test and Trace Negatives'], 'r', label = 'Test and Trace Negatives')\n",
    "plt.plot(plotting_df['Date'], plotting_df['REACT Positives'], 'g--', label = 'REACT Positives')\n",
    "plt.plot(plotting_df['Date'], plotting_df['REACT Negatives'], \"g\", label = 'REACT Negatives')\n",
    "plt.xticks([small, med, large])\n",
    "plt.title('Submission count over time')\n",
    "plt.xlabel('Time')\n",
    "plt.ylabel('Numer of submissions')\n",
    "plt.legend(loc='upper center', bbox_to_anchor=(1.3, 1.03), shadow=True, ncol=1)\n",
    "plt.savefig('figures/submission_over_time.png', bbox_inches=Bbox([[0, 0], [8, 4]]))"
   ]
  },
  {
   "cell_type": "code",
   "execution_count": null,
   "id": "3ae4847a",
   "metadata": {},
   "outputs": [],
   "source": [
    "age_plot = train_test[['covid_test_result', 'age','gender']]\n",
    "age_plot.columns = ['Test Result', 'Age','Gender']\n",
    "age_plot = age_plot.sort_values(['Test Result', 'Gender'], ascending = [False, True])\n",
    "sns.boxplot(data = age_plot, y = 'Test Result' , x = 'Age', palette=['#007C91', '#582C83', '#8A1B61'], hue = 'Gender')\n",
    "plt.savefig('figures/age_by_gender_by_test_result.png')"
   ]
  },
  {
   "cell_type": "code",
   "execution_count": null,
   "id": "be7b4528",
   "metadata": {},
   "outputs": [],
   "source": [
    "symptom_df = train_test[['symptom_cough_any', 'symptom_new_continuous_cough',\n",
    "       'symptom_runny_or_blocked_nose', 'symptom_shortness_of_breath',\n",
    "       'symptom_sore_throat', 'symptom_abdominal_pain', 'symptom_diarrhoea',\n",
    "       'symptom_fatigue', 'symptom_fever_high_temperature', 'symptom_headache',\n",
    "       'symptom_change_to_sense_of_smell_or_taste', 'symptom_loss_of_taste', 'symptom_none', 'symptom_other', 'symptom_prefer_not_to_say']]\n",
    "\n",
    "symptom_df.columns = [x.replace('symptom_', '').replace('_', ' ').capitalize() for x in symptom_df.columns]\n",
    "for col in symptom_df.columns:\n",
    "    symptom_df[col] = symptom_df[col].apply(lambda x: col if x == 1 else '')\n",
    "train_test['symptoms'] = [[x for x in list(set(y)) if x != ''] for y in symptom_df.values.tolist()]\n",
    "symptom_df = train_test[['covid_test_result', 'symptoms']]"
   ]
  },
  {
   "cell_type": "code",
   "execution_count": null,
   "id": "cad25c52",
   "metadata": {},
   "outputs": [],
   "source": [
    "!pip install upsetplot\n",
    "from upsetplot import UpSet, from_memberships\n",
    "pos = symptom_df.loc[symptom_df['covid_test_result'] == 'Positive']\n",
    "neg = symptom_df.loc[symptom_df['covid_test_result'] == 'Negative']\n",
    "covid_by_symptoms = from_memberships(pos.symptoms.apply(lambda x: ','.join(x)).str.split(','), data=pos)\n",
    "\n",
    "UpSet(covid_by_symptoms, min_subset_size=80, sort_by='cardinality',facecolor='#007C91',show_counts=True).plot()\n",
    "plt.savefig('figures/PositiveCasesSymptoms.png')\n",
    "\n",
    "covid_by_symptoms = from_memberships(neg.symptoms.apply(lambda x: ','.join(x)).str.split(','), data=neg)\n",
    "UpSet(covid_by_symptoms, min_subset_size=30, sort_by='cardinality',facecolor='#007C91',show_counts=True).plot()\n",
    "plt.savefig('figures/NegativeCasesSymptoms.png')"
   ]
  },
  {
   "cell_type": "code",
   "execution_count": null,
   "id": "d1a7b605",
   "metadata": {},
   "outputs": [],
   "source": [
    "train_test['recruitment_source_agg'] = train_test['recruitment_source'].apply(lambda x: x if x.strip() == 'Test and Trace' else 'REACT')\n",
    "pd.crosstab(train_test['recruitment_source_agg'], train_test['symptom_any'])"
   ]
  },
  {
   "cell_type": "code",
   "execution_count": null,
   "id": "09c1a231",
   "metadata": {},
   "outputs": [],
   "source": [
    "pd.crosstab(train_test['covid_test_result'], train_test['symptom_any'])"
   ]
  },
  {
   "cell_type": "code",
   "execution_count": null,
   "id": "1fc4353d",
   "metadata": {},
   "outputs": [],
   "source": [
    "pd.crosstab(train_test['covid_test_result'], train_test['recruitment_source_agg'])"
   ]
  },
  {
   "cell_type": "markdown",
   "id": "7dbeaa5f",
   "metadata": {},
   "source": [
    "## Other Analysis"
   ]
  },
  {
   "cell_type": "markdown",
   "id": "a0263e7d",
   "metadata": {},
   "source": [
    "#### Covid-19 infection status vs Any Symptoms"
   ]
  },
  {
   "cell_type": "code",
   "execution_count": null,
   "id": "29674b65",
   "metadata": {},
   "outputs": [],
   "source": [
    "pd.crosstab(train_test['symptom_any'], train_test['covid_test_result'], margins = True)"
   ]
  },
  {
   "cell_type": "markdown",
   "id": "81d73143",
   "metadata": {},
   "source": [
    "#### Breakdown of smoker status"
   ]
  },
  {
   "cell_type": "code",
   "execution_count": null,
   "id": "4cf2d246",
   "metadata": {},
   "outputs": [],
   "source": [
    "crosstab_subset = train_test[['smoker_status', 'covid_test_result']]\n",
    "crosstab_subset.columns = ['Smoker Status', 'Test Result']\n",
    "pd.crosstab(crosstab_subset['Smoker Status'], crosstab_subset['Test Result'], margins=False).plot.barh(stacked=True, color = ['#E40046', '#00AB8E'])\n",
    "pd.crosstab(crosstab_subset['Smoker Status'], crosstab_subset['Test Result'], margins=False)"
   ]
  },
  {
   "cell_type": "markdown",
   "id": "f9b1f133",
   "metadata": {},
   "source": [
    "#### Breakdown of other respiratory conditions"
   ]
  },
  {
   "cell_type": "code",
   "execution_count": null,
   "id": "d9a58b4e",
   "metadata": {},
   "outputs": [],
   "source": [
    "respiratory_plot = train_test[['respiratory_condition_none', 'respiratory_condition_asthma',\n",
    "       'respiratory_condition_copd_or_emphysema',\n",
    "       'respiratory_condition_other',\n",
    "       'respiratory_condition_prefer_not_to_say', 'covid_test_result']]\n",
    "\n",
    "respiratory_plot.columns = [x.replace('respiratory_condition_', '').replace('_', ' ').capitalize() for x in respiratory_plot.columns[0:5]] + ['covid_test_result']\n",
    "for col in respiratory_plot.columns[0:5]:\n",
    "    respiratory_plot[col] = respiratory_plot[col].apply(lambda x: col if x == 1 else '')\n",
    "respiratory_plot['conditions'] = [[x for x in list(set(y)) if x != ''] for y in respiratory_plot.iloc[:, 0:5].values.tolist()]\n",
    "\n",
    "crosstab_subset = respiratory_plot[['conditions', 'covid_test_result']].explode('conditions')\n",
    "crosstab_subset.columns = ['Other Respiratory Conditions', 'Test Result']\n",
    "pd.crosstab(crosstab_subset['Other Respiratory Conditions'], crosstab_subset['Test Result'], margins=False).plot.barh(stacked=True, color = ['#E40046', '#00AB8E'])\n",
    "print(pd.crosstab(crosstab_subset['Other Respiratory Conditions'], crosstab_subset['Test Result'], margins=False))"
   ]
  },
  {
   "cell_type": "markdown",
   "id": "3eb6a574",
   "metadata": {},
   "source": [
    "#### Breakdown of mask wearing"
   ]
  },
  {
   "cell_type": "code",
   "execution_count": null,
   "id": "831b14c7",
   "metadata": {},
   "outputs": [],
   "source": [
    "mask_count_dict = {}\n",
    "for option in list(set(train_test['wearing_mask'])):\n",
    "    mask_count_dict[option] = list(train_test['wearing_mask']).count(option)\n",
    "    print(option + ': ' + str(list(train_test['wearing_mask']).count(option)))\n",
    "plt_dict = mask_count_dict.items()\n",
    "plt_dict = sorted(plt_dict) \n",
    "x, y = zip(*plt_dict) \n",
    "plt.barh(x, y, color = col_lst[0])\n",
    "plt.show()"
   ]
  },
  {
   "cell_type": "markdown",
   "id": "d5f49817",
   "metadata": {},
   "source": [
    "#### Breakdown of ethnicity"
   ]
  },
  {
   "cell_type": "code",
   "execution_count": null,
   "id": "4eef6d8e",
   "metadata": {},
   "outputs": [],
   "source": [
    "eth_count_dict = {}\n",
    "exploded_data = [x for x in train_test['ethnicity'] if str(x) != 'nan']\n",
    "for option in list(set(exploded_data)):\n",
    "    eth_count_dict[option] = list(exploded_data).count(option)\n",
    "    print(option + ': ' + str(list(exploded_data).count(option)))\n",
    "# plt_dict = eth_count_dict.items()\n",
    "# plt_dict = sorted(plt_dict) \n",
    "# x, y = zip(*plt_dict) \n",
    "# plt.barh(x, y, color = col_lst[0])\n",
    "# plt.show()"
   ]
  },
  {
   "cell_type": "markdown",
   "id": "8fb39901",
   "metadata": {},
   "source": [
    "#### Vaccine Status"
   ]
  },
  {
   "cell_type": "code",
   "execution_count": null,
   "id": "a00dfe00",
   "metadata": {},
   "outputs": [],
   "source": [
    "vaccine_by_age = train_test[['age', 'covid_vaccine_doses']].dropna()\n",
    "vaccine_by_age.covid_vaccine_doses = pd.Categorical(vaccine_by_age.covid_vaccine_doses, categories = ['>2', 2, 1, 0])\n",
    "vaccine_by_age.columns = ['Age', 'Vaccination Doses']\n",
    "sns.boxplot(data = vaccine_by_age , y = 'Vaccination Doses' , x = 'Age', palette=['#007C91'])#, '#582C83', '#8A1B61'])\n"
   ]
  },
  {
   "cell_type": "markdown",
   "id": "09832510",
   "metadata": {},
   "source": [
    "#### Breakdown of Local Authority"
   ]
  },
  {
   "cell_type": "code",
   "execution_count": null,
   "id": "03992b18",
   "metadata": {},
   "outputs": [],
   "source": [
    "loc_count_df = pd.DataFrame()\n",
    "for loc in list(set([x for x in train_test['pseudonymised_local_authority_code'] if str(x) != 'nan'])):\n",
    "    #print(loc + ': ' + str([x for x in study_data['Location'] if str(x) != 'nan'].count(loc)))\n",
    "    loc_count_df = loc_count_df.append([[loc, [x for x in train_test['pseudonymised_local_authority_code'] if str(x) != 'nan'].count(loc)]])\n",
    "loc_count_df.columns = ['Pseudonymised Local Authority Code', 'Frequency']\n",
    "loc_count_df.sort_values(by = 'Frequency', ascending = False)"
   ]
  },
  {
   "cell_type": "markdown",
   "id": "a8cc3c7d",
   "metadata": {},
   "source": [
    "##### Geography Analysis - these are strategically selected for inclusion in the test set for high submission counts"
   ]
  },
  {
   "cell_type": "code",
   "execution_count": null,
   "id": "166ab750",
   "metadata": {},
   "outputs": [],
   "source": [
    "print('In LAD00262:')\n",
    "print('Num. Positive Cases: ' + str(list(train_test.loc[train_test['pseudonymised_local_authority_code'] == 'LAD00262']['covid_test_result']).count('Positive')))\n",
    "print('Num. Negative Cases: ' + str(list(train_test.loc[train_test['pseudonymised_local_authority_code'] == 'LAD00262']['covid_test_result']).count('Negative')))"
   ]
  },
  {
   "cell_type": "code",
   "execution_count": null,
   "id": "e74df959",
   "metadata": {},
   "outputs": [],
   "source": [
    "print('In LAD00272:')\n",
    "print('Num. Positive Cases: ' + str(list(train_test.loc[train_test['pseudonymised_local_authority_code'] == 'LAD00272']['covid_test_result']).count('Positive')))\n",
    "print('Num. Negative Cases: ' + str(list(train_test.loc[train_test['pseudonymised_local_authority_code'] == 'LAD00272']['covid_test_result']).count('Negative')))"
   ]
  },
  {
   "cell_type": "code",
   "execution_count": null,
   "id": "72f00dbe",
   "metadata": {},
   "outputs": [],
   "source": [
    "print('In LAD00048:')\n",
    "print('Num. Positive Cases: ' + str(list(train_test.loc[train_test['pseudonymised_local_authority_code'] == 'LAD00048']['covid_test_result']).count('Positive')))\n",
    "print('Num. Negative Cases: ' + str(list(train_test.loc[train_test['pseudonymised_local_authority_code'] == 'LAD00048']['covid_test_result']).count('Negative')))"
   ]
  },
  {
   "cell_type": "code",
   "execution_count": null,
   "id": "566f4ec4",
   "metadata": {},
   "outputs": [],
   "source": [
    "print('In LAD00257:')\n",
    "print('Num. Positive Cases: ' + str(list(train_test.loc[train_test['pseudonymised_local_authority_code'] == 'LAD00257']['covid_test_result']).count('Positive')))\n",
    "print('Num. Negative Cases: ' + str(list(train_test.loc[train_test['pseudonymised_local_authority_code'] == 'LAD00257']['covid_test_result']).count('Negative')))"
   ]
  },
  {
   "cell_type": "markdown",
   "id": "cc597aa1",
   "metadata": {},
   "source": [
    "#### Breakdown of Recruitment Source"
   ]
  },
  {
   "cell_type": "code",
   "execution_count": null,
   "id": "b5d6fd30",
   "metadata": {},
   "outputs": [],
   "source": [
    "crosstab_rec = train_test[['recruitment_source', 'covid_test_result']]\n",
    "crosstab_rec.columns = ['Recruitment Channel', 'Test Result']\n",
    "pd.crosstab(crosstab_rec['Recruitment Channel'], crosstab_rec['Test Result'], margins=False).plot.barh(stacked=True, color = ['#E40046', '#00AB8E'])\n",
    "pd.crosstab(train_test['recruitment_source'], train_test['covid_test_result'], margins=True)"
   ]
  },
  {
   "cell_type": "markdown",
   "id": "975206aa",
   "metadata": {},
   "source": [
    "#### Breakdown of Submission Delay"
   ]
  },
  {
   "cell_type": "markdown",
   "id": "468a52c6",
   "metadata": {},
   "source": [
    "Firstly we change these time-deta objects to numerical values representing the amount of time in days.\n",
    "\n",
    "Plot this against covid status"
   ]
  },
  {
   "cell_type": "code",
   "execution_count": null,
   "id": "a6b99e1d",
   "metadata": {},
   "outputs": [],
   "source": [
    "print('The minimum submission delay is ' + str(min(train_test['submission_delay'])) + ' days')\n",
    "print('The maximum submission delay is ' + str(max(train_test['submission_delay'])) + ' days')\n",
    "print('The number of submissions with a delay >2 days is ' + str(sum(train_test['submission_delay'] > 2)))\n",
    "print('The number of submissions with a delay >3 days is ' + str(sum(train_test['submission_delay'] > 3)))\n",
    "print('The number of submissions with a delay >4 days is ' + str(sum(train_test['submission_delay'] > 4)))\n",
    "print('The number of submissions with a delay >5 days is ' + str(sum(train_test['submission_delay'] > 5)))\n",
    "delay_counts = {}\n",
    "for delay in list(set(train_test['submission_delay'])):\n",
    "    delay_counts[int(delay)] = list(train_test['submission_delay']).count(delay)\n",
    "plot_df = pd.DataFrame({'Submission Delay (days)':delay_counts.keys(), 'Frequency':delay_counts.values()})\n",
    "plot_df.plot.bar(x='Submission Delay (days)', y='Frequency', color='#007C91', width=0.98)"
   ]
  },
  {
   "cell_type": "markdown",
   "id": "daf4fc1b",
   "metadata": {},
   "source": [
    "#### Viral Load Analysis"
   ]
  },
  {
   "cell_type": "code",
   "execution_count": null,
   "id": "a415ef64",
   "metadata": {},
   "outputs": [],
   "source": [
    "print('There are ' + str(sum(1-train_test['covid_viral_load_category'].isna())) + ' (' + str(np.round(100*sum(1-train_test['covid_viral_load_category'].isna())/len(train_test), 2)) + '%' + ') submissions with an associated viral load category')"
   ]
  },
  {
   "cell_type": "code",
   "execution_count": null,
   "id": "eb6ad9db",
   "metadata": {},
   "outputs": [],
   "source": [
    "dct = {}\n",
    "viral_load_filt = train_test.loc[~train_test['covid_viral_load_category'].isna()]\n",
    "for cat in list(set(viral_load_filt['covid_viral_load_category'])):\n",
    "    dct[cat] = list(viral_load_filt['covid_viral_load_category']).count(cat)\n",
    "sorted_dct = {k: v for k, v in sorted(dct.items(), key=lambda item: item[1])}\n",
    "plt.bar([x.replace(' ', '\\n') for x in sorted_dct.keys()], sorted_dct.values(), color = '#007C91')\n",
    "plt.savefig('figures/viral_load_frequency.png', dpi=600)"
   ]
  },
  {
   "cell_type": "markdown",
   "id": "c1086570",
   "metadata": {},
   "source": [
    "Check that this is not counfounding with Age as this will effect the age distribution in train-test split"
   ]
  },
  {
   "cell_type": "code",
   "execution_count": null,
   "id": "40d7bc69",
   "metadata": {},
   "outputs": [],
   "source": [
    "viral_load_df = train_test[['covid_viral_load_category', 'age']].dropna()\n",
    "viral_load_df['covid_viral_load_category'] = viral_load_df['covid_viral_load_category'].apply(lambda x: x.replace(' ', '\\n'))\n",
    "viral_load_df.columns = ['Covid viral load category', 'Age']\n",
    "sns.boxplot(data = viral_load_df , x = 'Covid viral load category' , y = 'Age')"
   ]
  },
  {
   "cell_type": "markdown",
   "id": "4f6d031e",
   "metadata": {},
   "source": [
    "#### Vaccination Status"
   ]
  },
  {
   "cell_type": "code",
   "execution_count": null,
   "id": "3ab4a7d2",
   "metadata": {},
   "outputs": [],
   "source": [
    "pd.crosstab(train_test['covid_vaccine_doses'], train_test['covid_test_result'])"
   ]
  },
  {
   "cell_type": "code",
   "execution_count": null,
   "id": "6e2c2b68",
   "metadata": {},
   "outputs": [],
   "source": [
    "sns.boxplot(data=train_test, x='covid_vaccine_doses', y='age')"
   ]
  },
  {
   "cell_type": "code",
   "execution_count": null,
   "id": "8aea6afe",
   "metadata": {},
   "outputs": [],
   "source": []
  }
 ],
 "metadata": {
  "kernelspec": {
   "display_name": "conda_python3",
   "language": "python",
   "name": "conda_python3"
  },
  "language_info": {
   "codemirror_mode": {
    "name": "ipython",
    "version": 3
   },
   "file_extension": ".py",
   "mimetype": "text/x-python",
   "name": "python",
   "nbconvert_exporter": "python",
   "pygments_lexer": "ipython3",
   "version": "3.6.13"
  }
 },
 "nbformat": 4,
 "nbformat_minor": 5
}
