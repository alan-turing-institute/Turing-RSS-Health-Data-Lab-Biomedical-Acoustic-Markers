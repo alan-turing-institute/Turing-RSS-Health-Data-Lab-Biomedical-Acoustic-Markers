{
 "cells": [
  {
   "cell_type": "markdown",
   "id": "4e572911",
   "metadata": {},
   "source": [
    "# Data Paper Figures and Statistics\n",
    "This notebook produces all figures and statistics for the data paper, using the openly available dataset"
   ]
  },
  {
   "cell_type": "code",
   "execution_count": null,
   "id": "7798b842",
   "metadata": {},
   "outputs": [],
   "source": [
    "!pip install kaleido # to export high res plot images from plotly, requires kernel restart"
   ]
  },
  {
   "cell_type": "code",
   "execution_count": null,
   "id": "fae72482",
   "metadata": {},
   "outputs": [],
   "source": [
    "pip install geopandas # to produce maps"
   ]
  },
  {
   "cell_type": "code",
   "execution_count": null,
   "id": "8105e46a",
   "metadata": {},
   "outputs": [],
   "source": [
    "# python imports \n",
    "import os\n",
    "import pandas as pd\n",
    "import geopandas as gpd\n",
    "import kaleido\n",
    "import numpy as np\n",
    "import boto3\n",
    "import plotly.express as px\n",
    "import plotly.graph_objects as go\n",
    "from plotly.subplots import make_subplots\n",
    "import io\n",
    "from io import StringIO\n",
    "from scipy.io import wavfile\n",
    "import datetime as dt\n",
    "from botocore import UNSIGNED\n",
    "from botocore.config import Config\n",
    "import yaml"
   ]
  },
  {
   "cell_type": "code",
   "execution_count": null,
   "id": "2929a26e",
   "metadata": {},
   "outputs": [],
   "source": [
    "# Reads files from S3 bucket (unneccesary if not using S3)\n",
    "def get_file(path, bucket_name):\n",
    "    s3_resource = boto3.resource('s3', config=Config(signature_version=UNSIGNED), region_name='eu-west-2')\n",
    "    bucket = s3_resource.Bucket(bucket_name)\n",
    "    return io.BytesIO(bucket.Object(path).get()['Body'].read())"
   ]
  },
  {
   "cell_type": "code",
   "execution_count": null,
   "id": "f1fc55a9",
   "metadata": {},
   "outputs": [],
   "source": [
    "# Reads yaml file containing data file paths \n",
    "with open('data_paper_io.yaml') as file:\n",
    "    try:\n",
    "        io_config = yaml.safe_load(file)   \n",
    "    except yaml.YAMLError as exc:\n",
    "        print(exc)"
   ]
  },
  {
   "cell_type": "code",
   "execution_count": null,
   "id": "ae2e5dae",
   "metadata": {},
   "outputs": [],
   "source": [
    "# reads participant metadata file \n",
    "participant_df =  pd.read_pickle(get_file(io_config['metadata']['participant_df'], io_config['bucket'])) "
   ]
  },
  {
   "cell_type": "code",
   "execution_count": null,
   "id": "f677c7bf",
   "metadata": {},
   "outputs": [],
   "source": [
    "# reads audio metadata file \n",
    "audio_df = pd.read_pickle(get_file(io_config['metadata']['audio_df'], io_config['bucket'])) "
   ]
  },
  {
   "cell_type": "markdown",
   "id": "6c19d707",
   "metadata": {},
   "source": [
    "### Data Paper Statistics "
   ]
  },
  {
   "cell_type": "markdown",
   "id": "7c90a8a8",
   "metadata": {},
   "source": [
    "Total Participants"
   ]
  },
  {
   "cell_type": "code",
   "execution_count": null,
   "id": "cf568fc2",
   "metadata": {},
   "outputs": [],
   "source": [
    "participant_df.shape[0]"
   ]
  },
  {
   "cell_type": "markdown",
   "id": "db96af3b",
   "metadata": {},
   "source": [
    "Positive cases (COVID)"
   ]
  },
  {
   "cell_type": "code",
   "execution_count": null,
   "id": "4b186822",
   "metadata": {},
   "outputs": [],
   "source": [
    "participant_df['covid_test_result'].value_counts()"
   ]
  },
  {
   "cell_type": "markdown",
   "id": "6214ae43",
   "metadata": {},
   "source": [
    "% PCR Test Results"
   ]
  },
  {
   "cell_type": "code",
   "execution_count": null,
   "id": "faf0b8b0",
   "metadata": {},
   "outputs": [],
   "source": [
    "participant_df[participant_df['covid_test_method'].str.contains('PCR', na=False)].shape[0]"
   ]
  },
  {
   "cell_type": "code",
   "execution_count": null,
   "id": "c8fad547",
   "metadata": {},
   "outputs": [],
   "source": [
    "# Tos dataset contains 27101 PCR test results\n",
    "70794/27101"
   ]
  },
  {
   "cell_type": "code",
   "execution_count": null,
   "id": "0902ff1d",
   "metadata": {},
   "outputs": [],
   "source": [
    "round(100*participant_df[participant_df['covid_test_method'].str.contains('PCR', na=False)].shape[0]/participant_df.shape[0],2)"
   ]
  },
  {
   "cell_type": "markdown",
   "id": "8bc5b893",
   "metadata": {},
   "source": [
    "PCR positive participants "
   ]
  },
  {
   "cell_type": "code",
   "execution_count": null,
   "id": "493843b2",
   "metadata": {},
   "outputs": [],
   "source": [
    "participant_df[participant_df['covid_test_method'].str.contains('PCR', na=False)]['covid_test_result'].value_counts()"
   ]
  },
  {
   "cell_type": "markdown",
   "id": "4ff0aecb",
   "metadata": {},
   "source": [
    "% Respiratory Symptoms"
   ]
  },
  {
   "cell_type": "code",
   "execution_count": null,
   "id": "e4e8b6eb",
   "metadata": {},
   "outputs": [],
   "source": [
    "respiratory_symptoms = ['symptom_new_continuous_cough', 'symptom_cough_any', \n",
    "                        'symptom_runny_or_blocked_nose', 'symptom_shortness_of_breath',\n",
    "       'symptom_sore_throat',]"
   ]
  },
  {
   "cell_type": "code",
   "execution_count": null,
   "id": "ea2705b0",
   "metadata": {},
   "outputs": [],
   "source": [
    "participant_df['symptoms_respiratory']=participant_df.apply(lambda x:x[respiratory_symptoms].sum()>0, axis=1)\n",
    "participant_df['symptoms_respiratory'].sum()"
   ]
  },
  {
   "cell_type": "code",
   "execution_count": null,
   "id": "4dc3c122",
   "metadata": {},
   "outputs": [],
   "source": [
    "round(100*participant_df['symptoms_respiratory'].sum()/participant_df.shape[0],2)"
   ]
  },
  {
   "cell_type": "code",
   "execution_count": null,
   "id": "1c8f3133",
   "metadata": {},
   "outputs": [],
   "source": [
    "round(100*participant_df[participant_df['covid_test_result']=='Positive']['symptoms_respiratory'].value_counts(normalize=True, dropna=False),2)"
   ]
  },
  {
   "cell_type": "code",
   "execution_count": null,
   "id": "5a77a0b2",
   "metadata": {},
   "outputs": [],
   "source": [
    "round(100*participant_df[participant_df['covid_test_result']=='Negative']['symptoms_respiratory'].value_counts(normalize=True, dropna=False),2)"
   ]
  },
  {
   "cell_type": "markdown",
   "id": "f4649da4",
   "metadata": {},
   "source": [
    "% Respiratory conditions"
   ]
  },
  {
   "cell_type": "code",
   "execution_count": null,
   "id": "849d3cbe",
   "metadata": {},
   "outputs": [],
   "source": [
    "respiratory_conditions = ['respiratory_condition_asthma',\n",
    "       'respiratory_condition_copd_or_emphysema',\n",
    "       'respiratory_condition_other']"
   ]
  },
  {
   "cell_type": "code",
   "execution_count": null,
   "id": "a14a70f5",
   "metadata": {},
   "outputs": [],
   "source": [
    "participant_df[participant_df[respiratory_conditions].sum(axis=1)>0].shape[0]"
   ]
  },
  {
   "cell_type": "code",
   "execution_count": null,
   "id": "f7a07f0f",
   "metadata": {},
   "outputs": [],
   "source": [
    "round(100*participant_df[participant_df[respiratory_conditions].sum(axis=1)>0].shape[0]/participant_df.shape[0],2)"
   ]
  },
  {
   "cell_type": "markdown",
   "id": "6b1cd0e7",
   "metadata": {},
   "source": [
    "% Asthma"
   ]
  },
  {
   "cell_type": "code",
   "execution_count": null,
   "id": "fdcefe6c",
   "metadata": {},
   "outputs": [],
   "source": [
    "participant_df[participant_df['respiratory_condition_asthma']==1].shape[0]"
   ]
  },
  {
   "cell_type": "code",
   "execution_count": null,
   "id": "f446c65a",
   "metadata": {},
   "outputs": [],
   "source": [
    "round(100*participant_df[participant_df['respiratory_condition_asthma']==1].shape[0]/participant_df.shape[0],2)"
   ]
  },
  {
   "cell_type": "markdown",
   "id": "f4d3a0bb",
   "metadata": {},
   "source": [
    "% Influenza A or B test results"
   ]
  },
  {
   "cell_type": "code",
   "execution_count": null,
   "id": "84e034f4",
   "metadata": {},
   "outputs": [],
   "source": [
    "participant_df['influenza_a_test_result'].value_counts()[['Positive', 'Negative']].sum()"
   ]
  },
  {
   "cell_type": "code",
   "execution_count": null,
   "id": "ffcb67e9",
   "metadata": {},
   "outputs": [],
   "source": [
    "participant_df['influenza_b_test_result'].value_counts()[['Positive', 'Negative']].sum()"
   ]
  },
  {
   "cell_type": "code",
   "execution_count": null,
   "id": "eb195314",
   "metadata": {},
   "outputs": [],
   "source": [
    "round(100*participant_df['influenza_a_test_result'].value_counts()[['Positive', 'Negative']].sum()/participant_df.shape[0],2)"
   ]
  },
  {
   "cell_type": "code",
   "execution_count": null,
   "id": "f8c5c830",
   "metadata": {},
   "outputs": [],
   "source": [
    "round(100*participant_df['influenza_b_test_result'].value_counts()[['Positive', 'Negative']].sum()/participant_df.shape[0], 2)"
   ]
  },
  {
   "cell_type": "code",
   "execution_count": null,
   "id": "6cb3c3b1",
   "metadata": {},
   "outputs": [],
   "source": [
    "participant_df['influenza_a_test_result'].value_counts()"
   ]
  },
  {
   "cell_type": "code",
   "execution_count": null,
   "id": "5e385406",
   "metadata": {},
   "outputs": [],
   "source": [
    "participant_df['influenza_b_test_result'].value_counts()"
   ]
  },
  {
   "cell_type": "markdown",
   "id": "d1cb2648",
   "metadata": {},
   "source": [
    "REACT rounds with influenza test results "
   ]
  },
  {
   "cell_type": "code",
   "execution_count": null,
   "id": "fb2d7d89",
   "metadata": {},
   "outputs": [],
   "source": [
    "participant_df[['recruitment_source', 'influenza_a_test_result']].value_counts()"
   ]
  },
  {
   "cell_type": "code",
   "execution_count": null,
   "id": "43a69bcd",
   "metadata": {},
   "outputs": [],
   "source": [
    "participant_df[['recruitment_source', 'influenza_b_test_result']].value_counts()"
   ]
  },
  {
   "cell_type": "markdown",
   "id": "4a7b3107",
   "metadata": {},
   "source": [
    "% Test method"
   ]
  },
  {
   "cell_type": "code",
   "execution_count": null,
   "id": "db72cee8",
   "metadata": {},
   "outputs": [],
   "source": [
    "participant_df['covid_test_method'].value_counts(dropna=False)"
   ]
  },
  {
   "cell_type": "code",
   "execution_count": null,
   "id": "0f0ad1ff",
   "metadata": {},
   "outputs": [],
   "source": [
    "round(100*participant_df['covid_test_method'].value_counts(normalize=True, dropna=False),2)"
   ]
  },
  {
   "cell_type": "code",
   "execution_count": null,
   "id": "17ca54ef",
   "metadata": {},
   "outputs": [],
   "source": [
    "participant_df['covid_test_result'].value_counts(dropna=False)"
   ]
  },
  {
   "cell_type": "code",
   "execution_count": null,
   "id": "928daa2c",
   "metadata": {},
   "outputs": [],
   "source": [
    "round(100*participant_df['covid_test_result'].value_counts(normalize=True, dropna=False),2)"
   ]
  },
  {
   "cell_type": "markdown",
   "id": "4a7202c1",
   "metadata": {},
   "source": [
    "Survey start and end dates"
   ]
  },
  {
   "cell_type": "code",
   "execution_count": null,
   "id": "68fbfc2d",
   "metadata": {},
   "outputs": [],
   "source": [
    "participant_df['submission_date'].min()"
   ]
  },
  {
   "cell_type": "code",
   "execution_count": null,
   "id": "38f23a0d",
   "metadata": {},
   "outputs": [],
   "source": [
    "participant_df['submission_date'].max()"
   ]
  },
  {
   "cell_type": "markdown",
   "id": "d28e0268",
   "metadata": {},
   "source": [
    "% REACT, Test and Trace"
   ]
  },
  {
   "cell_type": "code",
   "execution_count": null,
   "id": "99d11dc9",
   "metadata": {},
   "outputs": [],
   "source": [
    "participant_df['recruitment_source'].value_counts(dropna=False)[0]"
   ]
  },
  {
   "cell_type": "code",
   "execution_count": null,
   "id": "efbff6c3",
   "metadata": {},
   "outputs": [],
   "source": [
    "round(100*participant_df['recruitment_source'].value_counts(normalize=True, dropna=False)[0],2) # Test and Trace"
   ]
  },
  {
   "cell_type": "code",
   "execution_count": null,
   "id": "b983bd59",
   "metadata": {},
   "outputs": [],
   "source": [
    "participant_df['recruitment_source'].value_counts(dropna=False)[1:].sum()"
   ]
  },
  {
   "cell_type": "code",
   "execution_count": null,
   "id": "813b80a2",
   "metadata": {},
   "outputs": [],
   "source": [
    "round(100*participant_df['recruitment_source'].value_counts(normalize=True, dropna=False)[1:].sum(),2) # REACT"
   ]
  },
  {
   "cell_type": "markdown",
   "id": "376565ea",
   "metadata": {},
   "source": [
    "Recruitment rate"
   ]
  },
  {
   "cell_type": "code",
   "execution_count": null,
   "id": "aa2b12c2",
   "metadata": {},
   "outputs": [],
   "source": [
    "participant_df['cohort'] = participant_df['recruitment_source'].apply(lambda x:'REACT' if 'REACT' in x else x)"
   ]
  },
  {
   "cell_type": "code",
   "execution_count": null,
   "id": "e18248b6",
   "metadata": {},
   "outputs": [],
   "source": [
    "participant_df[['cohort', 'survey_phase']].value_counts()"
   ]
  },
  {
   "cell_type": "code",
   "execution_count": null,
   "id": "f30873fc",
   "metadata": {},
   "outputs": [],
   "source": [
    "# REACT beta phase recruitment rate\n",
    "# REACT beta phase recruitment: 295493 emails\n",
    "round(100*36116/295493,2)"
   ]
  },
  {
   "cell_type": "markdown",
   "id": "805f75f3",
   "metadata": {},
   "source": [
    "Median age "
   ]
  },
  {
   "cell_type": "code",
   "execution_count": null,
   "id": "f37f5314",
   "metadata": {},
   "outputs": [],
   "source": [
    "age_df = participant_df.copy()"
   ]
  },
  {
   "cell_type": "code",
   "execution_count": null,
   "id": "55c5e5d0",
   "metadata": {},
   "outputs": [],
   "source": [
    "age_df = age_df[~age_df['age'].isna()]"
   ]
  },
  {
   "cell_type": "code",
   "execution_count": null,
   "id": "1b59d953",
   "metadata": {},
   "outputs": [],
   "source": [
    "age_df['age'] = age_df['age'].replace({'94+':94})"
   ]
  },
  {
   "cell_type": "code",
   "execution_count": null,
   "id": "c38c5072",
   "metadata": {},
   "outputs": [],
   "source": [
    "age_df['age'].median()"
   ]
  },
  {
   "cell_type": "markdown",
   "id": "e0a212b0",
   "metadata": {},
   "source": [
    "Gender"
   ]
  },
  {
   "cell_type": "code",
   "execution_count": null,
   "id": "02b55eb3",
   "metadata": {},
   "outputs": [],
   "source": [
    "participant_df['gender'].value_counts(dropna=False)"
   ]
  },
  {
   "cell_type": "code",
   "execution_count": null,
   "id": "6e33d67a",
   "metadata": {},
   "outputs": [],
   "source": [
    "round(participant_df['gender'].value_counts(dropna=False, normalize=True)*100, 2)"
   ]
  },
  {
   "cell_type": "markdown",
   "id": "17da9a72",
   "metadata": {},
   "source": [
    "Ethnicity"
   ]
  },
  {
   "cell_type": "code",
   "execution_count": null,
   "id": "eb1a1b34",
   "metadata": {},
   "outputs": [],
   "source": [
    "participant_df['ethnicity'].value_counts(dropna=False)"
   ]
  },
  {
   "cell_type": "code",
   "execution_count": null,
   "id": "2c7830a3",
   "metadata": {},
   "outputs": [],
   "source": [
    "round(participant_df['ethnicity'].value_counts(dropna=False, normalize=True)*100, 2)"
   ]
  },
  {
   "cell_type": "markdown",
   "id": "433a0d96",
   "metadata": {},
   "source": [
    "% Wearing mask "
   ]
  },
  {
   "cell_type": "code",
   "execution_count": null,
   "id": "14976a43",
   "metadata": {},
   "outputs": [],
   "source": [
    "participant_df['wearing_mask'].value_counts(dropna=False)"
   ]
  },
  {
   "cell_type": "code",
   "execution_count": null,
   "id": "67a3479b",
   "metadata": {},
   "outputs": [],
   "source": [
    "round(100*participant_df['wearing_mask'].value_counts(dropna=False, normalize=True), 2)"
   ]
  },
  {
   "cell_type": "markdown",
   "id": "54397918",
   "metadata": {},
   "source": [
    "Audio sample rate stats"
   ]
  },
  {
   "cell_type": "code",
   "execution_count": null,
   "id": "3fb8cc72",
   "metadata": {},
   "outputs": [],
   "source": [
    "audio_df[['cough_sample_rate', 'three_cough_sample_rate', 'exhalation_sample_rate', 'sentence_sample_rate']].value_counts()"
   ]
  },
  {
   "cell_type": "code",
   "execution_count": null,
   "id": "068a0f81",
   "metadata": {},
   "outputs": [],
   "source": [
    "round(100*audio_df[['cough_sample_rate', 'three_cough_sample_rate', 'exhalation_sample_rate', 'sentence_sample_rate']].value_counts(normalize=True),2)"
   ]
  },
  {
   "cell_type": "markdown",
   "id": "06ac342c",
   "metadata": {},
   "source": [
    "Audio length"
   ]
  },
  {
   "cell_type": "code",
   "execution_count": null,
   "id": "e2780ead",
   "metadata": {},
   "outputs": [],
   "source": [
    "max([audio_df['cough_length'].max(),\n",
    "      audio_df['three_cough_length'].max(),\n",
    "     audio_df['exhalation_length'].max(),\n",
    "     audio_df['sentence_length'].max()])"
   ]
  },
  {
   "cell_type": "markdown",
   "id": "43e7a55e",
   "metadata": {},
   "source": [
    "Pre-June stats"
   ]
  },
  {
   "cell_type": "code",
   "execution_count": null,
   "id": "d02df2ba",
   "metadata": {},
   "outputs": [],
   "source": [
    "participant_df[participant_df['submission_date']<dt.date(2021, 6, 1)].shape[0]"
   ]
  },
  {
   "cell_type": "code",
   "execution_count": null,
   "id": "3a68bc21",
   "metadata": {},
   "outputs": [],
   "source": [
    "100*participant_df[participant_df['submission_date']<dt.date(2021, 6, 1)].shape[0]/participant_df.shape[0]"
   ]
  },
  {
   "cell_type": "markdown",
   "id": "b9d1db95",
   "metadata": {},
   "source": [
    "Survey phase"
   ]
  },
  {
   "cell_type": "code",
   "execution_count": null,
   "id": "061c4b4a",
   "metadata": {},
   "outputs": [],
   "source": [
    "participant_df['survey_phase'].value_counts(dropna=False)"
   ]
  },
  {
   "cell_type": "code",
   "execution_count": null,
   "id": "7cbe21eb",
   "metadata": {},
   "outputs": [],
   "source": [
    "round(100*participant_df['survey_phase'].value_counts(dropna=False, normalize=True),2)"
   ]
  },
  {
   "cell_type": "markdown",
   "id": "c76e0f85",
   "metadata": {},
   "source": [
    "Missing audio"
   ]
  },
  {
   "cell_type": "code",
   "execution_count": null,
   "id": "fff311e1",
   "metadata": {},
   "outputs": [],
   "source": [
    "audio_df['missing_audio'].value_counts(dropna=False)"
   ]
  },
  {
   "cell_type": "code",
   "execution_count": null,
   "id": "842e9f70",
   "metadata": {},
   "outputs": [],
   "source": [
    "round(100*audio_df['missing_audio'].value_counts(dropna=False, normalize=True),2)"
   ]
  },
  {
   "cell_type": "markdown",
   "id": "98feca9d",
   "metadata": {},
   "source": [
    "Number of audio files"
   ]
  },
  {
   "cell_type": "code",
   "execution_count": null,
   "id": "f3be7c97",
   "metadata": {},
   "outputs": [],
   "source": [
    "audio_df[~(audio_df['exhalation_size']<45) & ~(audio_df['exhalation_size'].isna())].shape[0] + audio_df[~(audio_df['sentence_size']<45) & ~(audio_df['sentence_size'].isna())].shape[0] + audio_df[~(audio_df['cough_size']<45) & ~(audio_df['cough_size'].isna())].shape[0] + audio_df[~(audio_df['three_cough_size']<45) & ~(audio_df['three_cough_size'].isna())].shape[0]\n"
   ]
  },
  {
   "cell_type": "code",
   "execution_count": null,
   "id": "49913760",
   "metadata": {},
   "outputs": [],
   "source": [
    "participant_df.shape[0]*4 - 289696"
   ]
  },
  {
   "cell_type": "markdown",
   "id": "59fd3c00",
   "metadata": {},
   "source": [
    "Total size of audio in GB"
   ]
  },
  {
   "cell_type": "code",
   "execution_count": null,
   "id": "c94b3146",
   "metadata": {},
   "outputs": [],
   "source": [
    "(audio_df['exhalation_size'].sum()+audio_df['exhalation_size'].sum()+\n",
    " audio_df['sentence_size'].sum()+\n",
    " audio_df['cough_size'].sum()+\n",
    " audio_df['three_cough_size'].sum())/1000000000"
   ]
  },
  {
   "cell_type": "code",
   "execution_count": null,
   "id": "f4b45704",
   "metadata": {},
   "outputs": [],
   "source": [
    "# Metadata size in MB\n",
    "27.8+35.2 #+7.4"
   ]
  },
  {
   "cell_type": "markdown",
   "id": "0592ce66",
   "metadata": {},
   "source": [
    "Audio Transcipts"
   ]
  },
  {
   "cell_type": "code",
   "execution_count": null,
   "id": "ef84224a",
   "metadata": {},
   "outputs": [],
   "source": [
    "round(100*audio_df[audio_df['sentence_transcript'] == \"i love nothing more than an afternoon cream tea\"].shape[0]/participant_df.shape[0], 2)"
   ]
  },
  {
   "cell_type": "code",
   "execution_count": null,
   "id": "f9451574",
   "metadata": {},
   "outputs": [],
   "source": [
    "# contains 'nothing more'\n",
    "round(100*audio_df[audio_df['sentence_transcript'].str.contains(\"nothing more\", na=False)].shape[0]/participant_df.shape[0], 2)"
   ]
  },
  {
   "cell_type": "code",
   "execution_count": null,
   "id": "37d0ed20",
   "metadata": {},
   "outputs": [],
   "source": [
    "# contains 'afternoon'\n",
    "round(100*audio_df[audio_df['sentence_transcript'].str.contains(\"afternoon\", na=False)].shape[0]/participant_df.shape[0], 2)"
   ]
  },
  {
   "cell_type": "code",
   "execution_count": null,
   "id": "0b4595d8",
   "metadata": {},
   "outputs": [],
   "source": [
    "# contains 'afternoon' AND 'nothing more'\n",
    "round(100*audio_df[(audio_df['sentence_transcript'].str.contains(\"afternoon\", na=False)) & (audio_df['sentence_transcript'].str.contains(\"nothing more\", na=False))].shape[0]/participant_df.shape[0], 2)"
   ]
  },
  {
   "cell_type": "markdown",
   "id": "79806954",
   "metadata": {},
   "source": [
    "Viral load data"
   ]
  },
  {
   "cell_type": "code",
   "execution_count": null,
   "id": "f1778ffb",
   "metadata": {},
   "outputs": [],
   "source": [
    "participant_df[~participant_df['covid_viral_load'].isna()].shape[0]"
   ]
  },
  {
   "cell_type": "code",
   "execution_count": null,
   "id": "cb0d08c5",
   "metadata": {},
   "outputs": [],
   "source": [
    "round(100*participant_df[~participant_df['covid_viral_load'].isna()].shape[0]/participant_df.shape[0],2)"
   ]
  },
  {
   "cell_type": "code",
   "execution_count": null,
   "id": "d7584727",
   "metadata": {},
   "outputs": [],
   "source": [
    "participant_df['covid_viral_load_category'].value_counts()"
   ]
  },
  {
   "cell_type": "markdown",
   "id": "dbc13972",
   "metadata": {},
   "source": [
    "English as first language"
   ]
  },
  {
   "cell_type": "code",
   "execution_count": null,
   "id": "28820105",
   "metadata": {},
   "outputs": [],
   "source": [
    "participant_df['language'].value_counts(dropna=False)"
   ]
  },
  {
   "cell_type": "code",
   "execution_count": null,
   "id": "b8a79f98",
   "metadata": {},
   "outputs": [],
   "source": [
    "round(100*participant_df['language'].value_counts(dropna=False, normalize=True),2)"
   ]
  },
  {
   "cell_type": "markdown",
   "id": "8a36fd96",
   "metadata": {},
   "source": [
    "% Min height and weight"
   ]
  },
  {
   "cell_type": "code",
   "execution_count": null,
   "id": "2d9ea2d9",
   "metadata": {},
   "outputs": [],
   "source": [
    "round(100*participant_df['height'].value_counts(dropna=False, normalize=True),2)"
   ]
  },
  {
   "cell_type": "code",
   "execution_count": null,
   "id": "d1e1c690",
   "metadata": {},
   "outputs": [],
   "source": [
    "round(100*participant_df['weight'].value_counts(dropna=False, normalize=True),2)"
   ]
  },
  {
   "cell_type": "markdown",
   "id": "b778d314",
   "metadata": {},
   "source": [
    "Variable completeness"
   ]
  },
  {
   "cell_type": "code",
   "execution_count": null,
   "id": "c547d4c9",
   "metadata": {},
   "outputs": [],
   "source": [
    "# make 'Prefer not to say' null for this calculation\n",
    "participant_na_df = participant_df.copy()\n",
    "participant_na_df = participant_na_df.replace('Prefer not to say', np.nan)\n",
    "participant_na_df = participant_na_df.replace('Unknown', np.nan)\n",
    "participant_na_df = participant_na_df.replace('Unknown/Void', np.nan)"
   ]
  },
  {
   "cell_type": "code",
   "execution_count": null,
   "id": "7aee77e9",
   "metadata": {},
   "outputs": [],
   "source": [
    "for column in participant_na_df.columns:\n",
    "    print(column, round(100-(100*participant_na_df[column].isna().sum()/participant_na_df.shape[0]), 2), \"%\")"
   ]
  },
  {
   "cell_type": "code",
   "execution_count": null,
   "id": "09b014e6",
   "metadata": {},
   "outputs": [],
   "source": [
    "for column in audio_df.columns:\n",
    "    print(column, round(100-(100*audio_df[column].isna().sum()/audio_df.shape[0]), 2), \"%\")"
   ]
  },
  {
   "cell_type": "markdown",
   "id": "22dc68aa",
   "metadata": {},
   "source": [
    "## Figure 1 - Recruitment"
   ]
  },
  {
   "cell_type": "markdown",
   "id": "f932c3b3",
   "metadata": {},
   "source": [
    "#### Figure 1.C Survey completion rates"
   ]
  },
  {
   "cell_type": "code",
   "execution_count": null,
   "id": "127212ef",
   "metadata": {},
   "outputs": [],
   "source": [
    "# Data from survey provider, for beta phase only, in order of survey \n",
    "react_data = [43015, 42707, 41500, 41418, 41389, 41386, 41372, 41343, 41326, 41323, 37602, 37150, 36933, 36768]\n",
    "tt_data = [41060, 40531, 28126, 28063, 28045, 28040, 28031, 28018, 28003, 28001, 26260, 26071, 25959, 25853]\n",
    "\n",
    "# List survey questions\n",
    "questions = [\"Privacy confirmation\", \"Participation agreement\", \n",
    "               \"Barcode entry\", \"Symptoms\", \n",
    "               \"Smoker status\", \"Respiratory conditions\", \n",
    "               \"First language\", \"Height\", \n",
    "               \"Weight\", \"Mask\", \n",
    "               \"Sentence audio\", \"Exhalations audio\", \n",
    "               \"Single cough audio\", \"Three coughs audio\",\n",
    "               \"<b>Processed Data Set<b>\"]\n",
    "\n",
    "react_data.append(participant_df[participant_df['recruitment_source'].str.contains('REACT')]['survey_phase' ].value_counts()['beta'])\n",
    "tt_data.append(participant_df[participant_df['recruitment_source']=='Test and Trace']['survey_phase' ].value_counts()['beta'])\n"
   ]
  },
  {
   "cell_type": "code",
   "execution_count": null,
   "id": "235facef",
   "metadata": {},
   "outputs": [],
   "source": [
    "# Plots figure\n",
    "fig = go.Figure()\n",
    "\n",
    "fig.add_trace(go.Funnel(\n",
    "    name = 'NHS Test and Trace',\n",
    "    orientation = \"h\",\n",
    "    width=0.75, \n",
    "    y = questions,\n",
    "    x = tt_data,\n",
    "    marker_color='#0072B2',\n",
    "    textposition = \"inside\",\n",
    "    textinfo = \"percent initial\"))\n",
    "\n",
    "fig.add_trace(go.Funnel(\n",
    "    name = 'REACT',\n",
    "    orientation = \"h\",\n",
    "    width=0.75,\n",
    "    y = questions,\n",
    "    x = react_data,\n",
    "    marker_color='#D55E00',\n",
    "    textposition = \"inside\",\n",
    "    textinfo = \"percent initial\"))\n",
    "\n",
    "fig.update_layout(template='simple_white', font_family=\"Arial\", font_size=12, width=500)\n",
    "\n",
    "fig.show()"
   ]
  },
  {
   "cell_type": "code",
   "execution_count": null,
   "id": "3e1963d4",
   "metadata": {},
   "outputs": [],
   "source": [
    "# Writes figure to image\n",
    "fig.write_image('DataPaperFig1C.svg', scale=1)\n",
    "fig.write_image('DataPaperFig1C.png', scale=3)"
   ]
  },
  {
   "cell_type": "markdown",
   "id": "a235f7fc",
   "metadata": {},
   "source": [
    "#### Combined subplots for figures 1.D, 1.E.  (combined to ensure matched font scale and width)"
   ]
  },
  {
   "cell_type": "markdown",
   "id": "f4f49fb3",
   "metadata": {},
   "source": [
    "D. Submissions over time "
   ]
  },
  {
   "cell_type": "code",
   "execution_count": null,
   "id": "d49698a7",
   "metadata": {},
   "outputs": [],
   "source": [
    "# Copies participant dataframe and gets number of participants \n",
    "all_df = participant_df.copy()\n",
    "\n",
    "participants = participant_df.shape[0]"
   ]
  },
  {
   "cell_type": "code",
   "execution_count": null,
   "id": "fe533fd5",
   "metadata": {},
   "outputs": [],
   "source": [
    "# Adds week and cohort variables \n",
    "all_df['week'] = pd.to_datetime(all_df['submission_date'], errors='coerce').dt.date - pd.to_datetime(all_df['submission_date'], errors='coerce').dt.weekday * np.timedelta64(1, 'D')\n",
    "\n",
    "all_df['cohort'] = all_df['recruitment_source'].apply(lambda x: 'react' if 'REACT' in x else ('tt' if 'Trace' in x else 'None'))"
   ]
  },
  {
   "cell_type": "code",
   "execution_count": null,
   "id": "b54b36e4",
   "metadata": {},
   "outputs": [],
   "source": [
    "# Groups by week \n",
    "week_df = all_df.groupby(['cohort', 'covid_test_result', 'week']).size().to_frame('count').reset_index()\n",
    "\n",
    "week_df['percentage']=100*week_df['count']/participants"
   ]
  },
  {
   "cell_type": "code",
   "execution_count": null,
   "id": "fe3dbd93",
   "metadata": {},
   "outputs": [],
   "source": [
    "# Creates plotly traces to plot\n",
    "tt_pos_timeline_trace=go.Scatter(x=week_df[(week_df['cohort']=='tt')&(week_df['covid_test_result']=='Positive')]['week'],\n",
    "                         y=week_df[(week_df['cohort']=='tt')&(week_df['covid_test_result']=='Positive')]['percentage'],\n",
    "                         stackgroup='one', name='NHS Test and Trace<br>COVID Positive', legendgroup=1,\n",
    "                        line=dict(width=0, color='rgba(0, 114, 178, 1)'))\n",
    "\n",
    "tt_neg_timeline_trace=go.Scatter(x=week_df[(week_df['cohort']=='tt')&(week_df['covid_test_result']=='Negative')]['week'],\n",
    "                         y=week_df[(week_df['cohort']=='tt')&(week_df['covid_test_result']=='Negative')]['percentage'],\n",
    "                         stackgroup='one', name='NHS Test and Trace<br>COVID Negative', legendgroup=1,\n",
    "                        line=dict(width=0, color='rgba(86, 180, 233, 1)'),)\n",
    "\n",
    "react_pos_timeline_trace=go.Scatter(x=week_df[(week_df['cohort']=='react')&(week_df['covid_test_result']=='Positive')]['week'],\n",
    "                         y=week_df[(week_df['cohort']=='react')&(week_df['covid_test_result']=='Positive')]['percentage'],\n",
    "                         stackgroup='one', name='REACT<br>COVID Positive', legendgroup=1,\n",
    "                         fillcolor='rgba(213,94,0,1)',\n",
    "                        line=dict(width=0),)\n",
    "\n",
    "react_neg_timeline_trace=go.Scatter(x=week_df[(week_df['cohort']=='react')&(week_df['covid_test_result']=='Negative')]['week'],\n",
    "                         y=week_df[(week_df['cohort']=='react')&(week_df['covid_test_result']=='Negative')]['percentage'],\n",
    "                         stackgroup='one', name='REACT<br>COVID Negative', legendgroup=1,\n",
    "                        line=dict(width=0, color='rgba(230, 159, 0, 1)'),)\n",
    "\n",
    "\n",
    "timeline_traces = [tt_pos_timeline_trace, tt_neg_timeline_trace, react_pos_timeline_trace, react_neg_timeline_trace]"
   ]
  },
  {
   "cell_type": "markdown",
   "id": "5bb3b4d5",
   "metadata": {},
   "source": [
    "E. Repsonse Gap"
   ]
  },
  {
   "cell_type": "code",
   "execution_count": null,
   "id": "c406686b",
   "metadata": {},
   "outputs": [],
   "source": [
    "# Splits participant dataframe by recuitment cohort \n",
    "tt_df=participant_df[participant_df['recruitment_source']=='Test and Trace']\n",
    "react_df= participant_df[participant_df['recruitment_source'].str.contains('REACT')]"
   ]
  },
  {
   "cell_type": "code",
   "execution_count": null,
   "id": "9a2f58f2",
   "metadata": {},
   "outputs": [],
   "source": [
    "# Formats data for both participant cohorts, prints 72 hours survey delay statistic\n",
    "subplot_traces=[]\n",
    "\n",
    "for cohort_df in [tt_df, react_df]:\n",
    "\n",
    "    # Run following cells \n",
    "    delay_df=cohort_df.copy()\n",
    "    participants=cohort_df.shape[0]\n",
    "\n",
    "    # format to be in context of submission date\n",
    "    delay_df['symptom_onset'] = 0-delay_df['symptom_onset'] \n",
    "    # Make symptom onset na when no symptoms \n",
    "    delay_df['symptom_onset'] = delay_df.apply(lambda x: np.nan if x['symptom_none']==1 else x['symptom_onset'], axis=1)\n",
    "    delay_df['covid_test_date'] = delay_df['covid_test_date'] - delay_df['submission_date']\n",
    "    delay_df['covid_test_processed_date'] = delay_df['covid_test_processed_date'] - delay_df['submission_date']\n",
    "\n",
    "    # Print % of participants completing survey within 72 hours \n",
    "    delay_df['submission_delay_72hrs'] = pd.to_timedelta(delay_df['covid_test_date']).dt.days.apply(lambda x: 1 if x<-3 else 0)\n",
    "    print(\"percentage participants completing survey withing 72hrs of testing: \")\n",
    "    print(round(100*delay_df['submission_delay_72hrs'].value_counts(dropna=False, normalize=True), 2))\n",
    "\n",
    "    # format test completion date data\n",
    "    test_date_df = delay_df['covid_test_date'].value_counts().reset_index().sort_values(by='index', ascending=True)\n",
    "    test_date_df.columns=['days','count']\n",
    "    test_date_df['percentage'] = 100*test_date_df['count']/participants\n",
    "    test_date_df['days']= test_date_df['days'].astype(str).str.split(\" days\").str[0].astype(int)\n",
    "    \n",
    "    # get test completion date plotly trace\n",
    "    taken_trace = go.Scatter(\n",
    "    x=test_date_df['days'], \n",
    "    y=test_date_df['percentage'],\n",
    "    name='Test Taken',\n",
    "    fill='tozeroy',\n",
    "    fillcolor='rgba(213, 94, 0, 0.75)',\n",
    "    line=dict(width=0),\n",
    "    legendgroup=2,\n",
    "    showlegend=False,\n",
    "    mode='lines')\n",
    "\n",
    "    # format test processing date data\n",
    "    processed_date_df = delay_df['covid_test_processed_date'].value_counts().reset_index().sort_values(by='index', ascending=True)\n",
    "    processed_date_df.columns=['days','count']\n",
    "    processed_date_df['percentage'] = 100*processed_date_df['count']/participants\n",
    "    processed_date_df['days']= processed_date_df['days'].astype(str).str.split(\" days\").str[0].astype(int)\n",
    "    \n",
    "    # get test processing date plotly trace\n",
    "    processed_trace = go.Scatter(\n",
    "    x=processed_date_df['days'], \n",
    "    y=processed_date_df['percentage'],\n",
    "    name='Test Processed',\n",
    "    fill='tozeroy',\n",
    "    fillcolor='rgba(204, 121, 167, 0.75)',\n",
    "    line=dict(width=0),\n",
    "    legendgroup=2,\n",
    "    showlegend=False,\n",
    "    mode='lines')\n",
    "\n",
    "    # format symptom onset data\n",
    "    onset_df = delay_df['symptom_onset'].value_counts().reset_index().sort_values(by='index', ascending=True)\n",
    "    onset_df.columns=['days','count']\n",
    "    onset_df['percentage'] = 100*onset_df['count']/participants\n",
    "    \n",
    "    # get symptom onset date plotly trace\n",
    "    onset_trace = go.Scatter(\n",
    "    x=onset_df['days'], \n",
    "    y=onset_df['percentage'],\n",
    "    name='Symptom Onset',\n",
    "    fill='tozeroy',\n",
    "    fillcolor='rgba(0, 114, 178, 0.75)',\n",
    "    line=dict(width=0),\n",
    "    legendgroup=2,\n",
    "    showlegend=False,\n",
    "    mode='lines',\n",
    "    )\n",
    "    \n",
    "    subplot_traces.append([processed_trace, taken_trace, onset_trace])\n",
    "    "
   ]
  },
  {
   "cell_type": "markdown",
   "id": "b723de27",
   "metadata": {},
   "source": [
    "Combined Subplot"
   ]
  },
  {
   "cell_type": "code",
   "execution_count": null,
   "id": "9a933e50",
   "metadata": {},
   "outputs": [],
   "source": [
    "# Plots above traces \n",
    "fig = make_subplots(rows=2, cols=2,  vertical_spacing=0.25, #shared_yaxes=True,\n",
    "                    subplot_titles=('<b>Survey participation by week<b>', '<b>REACT<b>', '<b>NHS Test and Trace<b>'),\n",
    "                    specs=[[{\"colspan\": 2}, None],\n",
    "                          [{},{}]]\n",
    "                   )\n",
    "\n",
    "\n",
    "for trace in timeline_traces:\n",
    "    fig.add_trace(trace, row=1, col=1)\n",
    "\n",
    "for trace in subplot_traces[1]:\n",
    "    fig.add_trace(trace, row=2, col=1)\n",
    "    \n",
    "for trace in subplot_traces[0]:\n",
    "    fig.add_trace(trace, row=2, col=2)\n",
    "\n",
    "\n",
    "fig.add_vline(x=0, line_width=2, line_dash=\"dash\", opacity=1,\n",
    "              line_color=\"black\", annotation_text = ' Survey<br> submission',\n",
    "              annotation_position='top right', annotation_align='left', row=2)\n",
    "\n",
    "\n",
    "fig.update_yaxes(ticksuffix='%')\n",
    "fig.update_xaxes(title='Survey submission date', row=1)\n",
    "fig.update_yaxes(title='Percentage of particpants', title_standoff=10, range=[0,10], row=1)\n",
    "fig.update_yaxes(title='Percentage of particpants', title_standoff=5, row=2)\n",
    "fig.update_xaxes(range=[-15, 5], title_text='Days relative to survey submission', row=2)\n",
    "fig.update_yaxes(range=[0, 80], row=2)\n",
    "  \n",
    "fig.update_layout(template='simple_white',\n",
    "                  font_family='Arial',\n",
    "                  font_size=12,\n",
    "                  height=600,\n",
    "                 legend=dict(x=0.025,y=1, bgcolor='rgba(255, 255, 255, 0)', borderwidth=0,\n",
    "                             tracegroupgap=130))\n",
    "\n",
    "fig.show() "
   ]
  },
  {
   "cell_type": "code",
   "execution_count": null,
   "id": "0400bb50",
   "metadata": {},
   "outputs": [],
   "source": [
    "# Writes plot to image\n",
    "fig.write_image('DataPaperFig1DE.svg', scale=1) \n",
    "fig.write_image('DataPaperFig1DE.png', scale=3) "
   ]
  },
  {
   "cell_type": "markdown",
   "id": "74c37537",
   "metadata": {},
   "source": [
    "## Figure 2 - Dataset summary"
   ]
  },
  {
   "cell_type": "code",
   "execution_count": null,
   "id": "ea2bd876",
   "metadata": {},
   "outputs": [],
   "source": [
    "all_df = participant_df.copy()"
   ]
  },
  {
   "cell_type": "code",
   "execution_count": null,
   "id": "3903d37a",
   "metadata": {},
   "outputs": [],
   "source": [
    "participants = all_df.shape[0]"
   ]
  },
  {
   "cell_type": "markdown",
   "id": "619d6129",
   "metadata": {},
   "source": [
    "#### Audio Plot\n",
    "Audio data shown in the manuscript is recorded by the author and not included in this repository. Similar plots can be recreated using the audio files listed in audio_df and read using scipy.io.wavfile.read"
   ]
  },
  {
   "cell_type": "code",
   "execution_count": null,
   "id": "2f9355a4",
   "metadata": {},
   "outputs": [],
   "source": [
    "# my_audio_df = pd.read_csv('my_audio_df.csv')\n",
    "samplerate = 44100 "
   ]
  },
  {
   "cell_type": "code",
   "execution_count": null,
   "id": "4aa51f64",
   "metadata": {},
   "outputs": [],
   "source": [
    "# One example audio file for each audio modality \n",
    "sentence = np.array(my_audio_df['sentence'])\n",
    "exhalation = np.array(my_audio_df['exhalation'])\n",
    "one_cough = np.array(my_audio_df['one_cough'])\n",
    "three_coughs = np.array(my_audio_df['three_coughs'])"
   ]
  },
  {
   "cell_type": "code",
   "execution_count": null,
   "id": "6002e196",
   "metadata": {},
   "outputs": [],
   "source": [
    "# Generates plotly traces and plots subplots\n",
    "\n",
    "fig = make_subplots(\n",
    "    rows=4, cols=1,\n",
    "    shared_xaxes=True,\n",
    "    shared_yaxes=True,\n",
    "    subplot_titles=(\"Speech (read sentence)\", \"Three sharp exhalations\", \"One volitional cough\", \"Three volitional coughs\"))\n",
    "\n",
    "sentence_trace = go.Scatter(\n",
    "    x=[x/samplerate for x in range(0, len(sentence))],\n",
    "    y=sentence,\n",
    "showlegend=False,\n",
    "line=dict(color=\"#CC79A7\"))\n",
    "    \n",
    "exhalation_trace = go.Scatter(\n",
    "    x=[x/samplerate for x in range(0, len(exhalation))],\n",
    "    y=exhalation,\n",
    "showlegend=False,\n",
    "line=dict(color=\"#CC79A7\"))\n",
    "    \n",
    "one_cough_trace = go.Scatter(\n",
    "    x=[x/samplerate for x in range(0, len(one_cough))],\n",
    "    y=one_cough,\n",
    "showlegend=False,\n",
    "line=dict(color=\"#CC79A7\"))\n",
    "    \n",
    "three_coughs_trace = go.Scatter(\n",
    "    x=[x/samplerate for x in range(0, len(three_coughs))],\n",
    "    y=three_coughs,\n",
    "showlegend=False,\n",
    "line=dict(color=\"#CC79A7\"))\n",
    "\n",
    "fig.add_trace(sentence_trace, col=1, row=1)\n",
    "\n",
    "fig.add_trace(exhalation_trace, col=1, row=2)\n",
    "\n",
    "fig.add_trace(one_cough_trace, col=1, row=3)\n",
    "\n",
    "fig.add_trace(three_coughs_trace, col=1, row=4)\n",
    "\n",
    "fig.update_xaxes(title='Seconds', row=4)\n",
    "fig.update_yaxes(showticklabels=False)\n",
    "fig.update_yaxes(ticks=\"\")\n",
    "fig.update_layout(template='simple_white', font_family='Arial', font_size=14, width=500)\n",
    "\n",
    "fig.show()"
   ]
  },
  {
   "cell_type": "markdown",
   "id": "0f2993cf",
   "metadata": {},
   "source": [
    "#### COVID Test Results\n",
    "The following subsections generate plotly traces which are plotted later as subplots "
   ]
  },
  {
   "cell_type": "code",
   "execution_count": null,
   "id": "7f7241ef",
   "metadata": {},
   "outputs": [],
   "source": [
    "# Groups all PCR-type tests \n",
    "def test_simplify(test):\n",
    "    try:\n",
    "        if 'PCR' in test:\n",
    "            return 'PCR'\n",
    "        else:\n",
    "            return test     \n",
    "    except:\n",
    "        return None"
   ]
  },
  {
   "cell_type": "code",
   "execution_count": null,
   "id": "438adc0d",
   "metadata": {},
   "outputs": [],
   "source": [
    "# Format data\n",
    "all_df['covid_test_method'] = all_df['covid_test_method'].apply(lambda x:test_simplify(x))\n",
    "\n",
    "covid_df = all_df.groupby(['covid_test_result', 'covid_test_method']).size().reset_index()\n",
    "\n",
    "covid_df = covid_df[covid_df['covid_test_result']!='Unknown/Void']\n",
    "\n",
    "covid_df = covid_df[covid_df['covid_test_method']!='Unknown']\n",
    "\n",
    "covid_df.columns  =['covid_test_result', 'covid_test_method', 'count']\n",
    "\n",
    "covid_df['percentage'] = 100* covid_df['count']/participants"
   ]
  },
  {
   "cell_type": "code",
   "execution_count": null,
   "id": "2b9e8c2f",
   "metadata": {},
   "outputs": [],
   "source": [
    "# Generates plotly traces\n",
    "covid_trace_1 = go.Bar(\n",
    "x=covid_df[covid_df['covid_test_method']=='PCR']['covid_test_result'],\n",
    "y=covid_df[covid_df['covid_test_method']=='PCR']['percentage'],\n",
    "name='PCR',\n",
    "offsetgroup='A',\n",
    "marker=dict(line=dict(width=0)),\n",
    "marker_color='#0072B2')\n",
    "\n",
    "covid_trace_2 = go.Bar(\n",
    "x=covid_df[covid_df['covid_test_method']=='LAMP']['covid_test_result'],\n",
    "y=covid_df[covid_df['covid_test_method']=='LAMP']['percentage'],\n",
    "name='LAMP',\n",
    "offsetgroup='A',\n",
    "base = covid_df[covid_df['covid_test_method']=='PCR']['percentage'],\n",
    "marker=dict(line=dict(width=0)),\n",
    "marker_color='#009E73')\n",
    "\n",
    "covid_trace_3 = go.Bar(\n",
    "x=covid_df[covid_df['covid_test_method']=='LFT']['covid_test_result'],\n",
    "y=covid_df[covid_df['covid_test_method']=='LFT']['percentage'],\n",
    "name='LFT',\n",
    "offsetgroup='A',\n",
    "base = covid_df[covid_df['covid_test_method']!='LFT'].groupby('covid_test_result').sum().reset_index()['percentage'],\n",
    "marker=dict(line=dict(width=0)),\n",
    "marker_color='#F0E442')\n",
    "\n",
    "covid_test_traces = [covid_trace_1, covid_trace_2, covid_trace_3]"
   ]
  },
  {
   "cell_type": "markdown",
   "id": "57d93f23",
   "metadata": {},
   "source": [
    "#### Influenza Test Results"
   ]
  },
  {
   "cell_type": "code",
   "execution_count": null,
   "id": "86d3d206",
   "metadata": {},
   "outputs": [],
   "source": [
    "# Combines influenza A and B test results \n",
    "\n",
    "def flu_label(row):\n",
    "    try:\n",
    "        if (row['influenza_a_test_result']=='Positive') or (row['influenza_b_test_result']=='Positive'):\n",
    "            return 'Positive'\n",
    "        if (row['influenza_a_test_result']=='Negative') and (row['influenza_b_test_result']=='Negative'):\n",
    "            return 'Negative'\n",
    "        else:\n",
    "            return None\n",
    "    except:\n",
    "        return None"
   ]
  },
  {
   "cell_type": "code",
   "execution_count": null,
   "id": "63696c48",
   "metadata": {},
   "outputs": [],
   "source": [
    "# Formats data \n",
    "all_df['influenza_test_result'] = all_df.apply(lambda x:flu_label(x), axis=1)\n",
    "\n",
    "flu_df = all_df.groupby('influenza_test_result').size().reset_index()\n",
    "\n",
    "flu_df.columns = ['influenza_test_result', 'count']\n",
    "\n",
    "flu_df['percentage'] = 100* flu_df['count']/participants"
   ]
  },
  {
   "cell_type": "code",
   "execution_count": null,
   "id": "014e20e8",
   "metadata": {},
   "outputs": [],
   "source": [
    "# Generates plotly trace\n",
    "flu_trace = go.Bar(\n",
    "x=flu_df['influenza_test_result'],\n",
    "y=flu_df['percentage'],\n",
    "name='PCR',\n",
    "showlegend=False,\n",
    "marker=dict(line=dict(width=0)),\n",
    "marker_color='#0072B2')"
   ]
  },
  {
   "cell_type": "markdown",
   "id": "e49adefc",
   "metadata": {},
   "source": [
    "#### Symptoms"
   ]
  },
  {
   "cell_type": "code",
   "execution_count": null,
   "id": "e2ba4349",
   "metadata": {},
   "outputs": [],
   "source": [
    "# Groups non-respiratory symptoms for plot \n",
    "\n",
    "non_respiratory_symptoms =  [\n",
    "       'symptom_change_to_sense_of_smell_or_taste',\n",
    "       'symptom_abdominal_pain',\n",
    "       'symptom_diarrhoea', 'symptom_fatigue',\n",
    "       'symptom_fever_high_temperature', 'symptom_headache',\n",
    "       'symptom_loss_of_taste',]\n",
    "\n",
    "all_df['symptom_non_resp'] = all_df[non_respiratory_symptoms].any(axis=1).replace({True: 1, False: 0})"
   ]
  },
  {
   "cell_type": "code",
   "execution_count": null,
   "id": "1a27abc0",
   "metadata": {},
   "outputs": [],
   "source": [
    "# New symptom list with grouped non-respiratory symptoms \n",
    "symptoms = ['symptom_cough_any', 'symptom_new_continuous_cough', 'symptom_runny_or_blocked_nose',\n",
    "            'symptom_sore_throat', 'symptom_shortness_of_breath',\n",
    "       'symptom_non_resp', 'symptom_other', 'symptom_none', 'symptom_prefer_not_to_say',]"
   ]
  },
  {
   "cell_type": "code",
   "execution_count": null,
   "id": "7d6c0de9",
   "metadata": {},
   "outputs": [],
   "source": [
    "# Formats symptom names for plot\n",
    "symptom_dict = {'symptom_change_to_sense_of_smell_or_taste':'Change to sense<br>of smell or taste',\n",
    "       'symptom_new_continuous_cough':'New continuous<br>cough',\n",
    "        'symptom_abdominal_pain':'Abdominal pain',\n",
    "       'symptom_cough_any': 'Cough (any)',\n",
    "        'symptom_diarrhoea':'Diarrhoea',\n",
    "        'symptom_fatigue':'Fatigue',\n",
    "       'symptom_fever_high_temperature':'Fever',\n",
    "        'symptom_headache':'Headache',\n",
    "       'symptom_loss_of_taste':'Loss of taste',\n",
    "        'symptom_runny_or_blocked_nose':'Runny or<br>blocked nose',\n",
    "        'symptom_shortness_of_breath':'Shortness of<br>breath',\n",
    "       'symptom_sore_throat':'Sore throat', \n",
    "        'symptom_other':'Other',\n",
    "        'symptom_none':'None',\n",
    "        'symptom_non_resp':'Non-respiratory<br>symptoms*',\n",
    "        'symptom_prefer_not_to_say':'Prefer not to say',}"
   ]
  },
  {
   "cell_type": "code",
   "execution_count": null,
   "id": "9813801d",
   "metadata": {},
   "outputs": [],
   "source": [
    "# Split by positive an negative COVID test results for plot \n",
    "pos_df = all_df[all_df['covid_test_result']=='Positive']\n",
    "neg_df = all_df[all_df['covid_test_result']=='Negative']"
   ]
  },
  {
   "cell_type": "code",
   "execution_count": null,
   "id": "39e23e3c",
   "metadata": {},
   "outputs": [],
   "source": [
    "# Format data for bar plot \n",
    "symptom_counts = []\n",
    "for symptom in symptoms:\n",
    "    symptom_counts.append([symptom, pos_df[symptom].sum(), neg_df[symptom].sum()])\n",
    "    \n",
    "symptom_df = pd.DataFrame(symptom_counts)\n",
    "symptom_df.columns = ['symptom', 'pos_count', 'neg_count']\n",
    "\n",
    "symptom_df['symptom'] = symptom_df['symptom'].map(symptom_dict)\n",
    "symptom_df = symptom_df[:8]"
   ]
  },
  {
   "cell_type": "code",
   "execution_count": null,
   "id": "ee5215a8",
   "metadata": {},
   "outputs": [],
   "source": [
    "# Generate plotly traces \n",
    "pos_symptom_trace = go.Bar(\n",
    "x=symptom_df['symptom'],\n",
    "y=100*symptom_df['pos_count']/participants, \n",
    "name='COVID<br>Positive', \n",
    "marker_color='rgba(230,159,0,1)',\n",
    ")\n",
    "\n",
    "neg_symptom_trace = go.Bar(\n",
    "x=symptom_df['symptom'],\n",
    "y=100*symptom_df['neg_count']/participants, \n",
    "name='COVID<br>Negative', \n",
    "marker_color='rgba(86,180,233,1)', \n",
    ")\n",
    "\n",
    "symptom_traces = [pos_symptom_trace, neg_symptom_trace]"
   ]
  },
  {
   "cell_type": "markdown",
   "id": "b1fa0785",
   "metadata": {},
   "source": [
    "#### Respiratory Conditions"
   ]
  },
  {
   "cell_type": "code",
   "execution_count": null,
   "id": "e9a629f9",
   "metadata": {},
   "outputs": [],
   "source": [
    "# List of respiratory condition variables\n",
    "conditions=['respiratory_condition_asthma',\n",
    "       'respiratory_condition_copd_or_emphysema',\n",
    "       'respiratory_condition_other',\n",
    "       'respiratory_condition_none',\n",
    "       'respiratory_condition_prefer_not_to_say']"
   ]
  },
  {
   "cell_type": "code",
   "execution_count": null,
   "id": "b303790a",
   "metadata": {},
   "outputs": [],
   "source": [
    "# Rename variables for plot \n",
    "condition_dict = {'respiratory_condition_asthma':'Asthma',\n",
    "       'respiratory_condition_copd_or_emphysema':'COPD or<br>Emphysema',\n",
    "       'respiratory_condition_other':'Other',\n",
    "       'respiratory_condition_none':'None',\n",
    "       'respiratory_condition_prefer_not_to_say':'Prefer not to say'}"
   ]
  },
  {
   "cell_type": "code",
   "execution_count": null,
   "id": "844ce4a1",
   "metadata": {},
   "outputs": [],
   "source": [
    "# Split by positive an negative COVID test results for plot \n",
    "pos_df = all_df[all_df['covid_test_result']=='Positive']\n",
    "neg_df = all_df[all_df['covid_test_result']=='Negative']"
   ]
  },
  {
   "cell_type": "code",
   "execution_count": null,
   "id": "cb49d2de",
   "metadata": {},
   "outputs": [],
   "source": [
    "# Get negative and positive counts \n",
    "condition_counts = []\n",
    "for condition in conditions:\n",
    "    condition_counts.append([condition, pos_df[condition].sum(), neg_df[condition].sum()])"
   ]
  },
  {
   "cell_type": "code",
   "execution_count": null,
   "id": "35cc9e91",
   "metadata": {},
   "outputs": [],
   "source": [
    "# Format data for bar plot \n",
    "condition_df = pd.DataFrame(condition_counts)\n",
    "\n",
    "condition_df.columns = ['condition', 'pos_count', 'neg_count']\n",
    "\n",
    "condition_df['condition'] = condition_df['condition'].map(condition_dict)\n",
    "\n",
    "condition_df = condition_df[:4] # Removes 'prefer not to say'"
   ]
  },
  {
   "cell_type": "code",
   "execution_count": null,
   "id": "03bfffd0",
   "metadata": {},
   "outputs": [],
   "source": [
    "# Generate plotly traces\n",
    "pos_condition_trace = go.Bar(\n",
    "x=condition_df['condition'],\n",
    "y=100*condition_df['pos_count']/participants, \n",
    "name='COVID Positive', \n",
    "showlegend=False,\n",
    "marker_color='rgba(230,159,0,1)',\n",
    ")\n",
    "\n",
    "neg_condition_trace = go.Bar(\n",
    "x=condition_df['condition'],\n",
    "y=100*condition_df['neg_count']/participants, \n",
    "name='COVID Negative', \n",
    "showlegend=False,\n",
    "marker_color='rgba(86,180,233,1)',\n",
    ")\n",
    "\n",
    "\n",
    "condition_traces = [pos_condition_trace, neg_condition_trace]"
   ]
  },
  {
   "cell_type": "markdown",
   "id": "2f69a53e",
   "metadata": {},
   "source": [
    "#### Smoker Status"
   ]
  },
  {
   "cell_type": "code",
   "execution_count": null,
   "id": "cb203a0b",
   "metadata": {},
   "outputs": [],
   "source": [
    "# Group all variable options for current smokers\n",
    "all_df['smoker_status']=all_df['smoker_status'].apply(lambda x:'Current smoker' if 'Current smoker' in x else x)"
   ]
  },
  {
   "cell_type": "code",
   "execution_count": null,
   "id": "4a5f1e09",
   "metadata": {},
   "outputs": [],
   "source": [
    "# Format data for bar plot \n",
    "smoker_df = all_df.groupby(['smoker_status' ,'covid_test_result']).size().to_frame().reset_index().rename(columns={0:'counts'})\n",
    "smoker_df = smoker_df[0:8] # Removes prefer not to say' option "
   ]
  },
  {
   "cell_type": "code",
   "execution_count": null,
   "id": "d0c9e70e",
   "metadata": {},
   "outputs": [],
   "source": [
    "# Generate plotly traces \n",
    "pos_smoker_trace = go.Bar(\n",
    "    x=smoker_df[smoker_df['covid_test_result']=='Positive']['smoker_status'],\n",
    "    y=100*smoker_df[smoker_df['covid_test_result']=='Positive']['counts']/participants,\n",
    "    name='COVID Positive',\n",
    "    showlegend=False,\n",
    "    marker_color='rgba(230,159,0,1)', \n",
    "    offsetgroup='Pos',\n",
    ")\n",
    "\n",
    "neg_smoker_trace = go.Bar(\n",
    "    x=smoker_df[smoker_df['covid_test_result']=='Negative']['smoker_status'],\n",
    "    y=100*smoker_df[smoker_df['covid_test_result']=='Negative']['counts']/participants,\n",
    "    name='COVID Negative',\n",
    "    showlegend=False,\n",
    "    marker_color='rgba(86,180,233,1)',\n",
    "    offsetgroup='Neg',\n",
    ")\n",
    "\n",
    "smoker_traces = [pos_smoker_trace, neg_smoker_trace]\n"
   ]
  },
  {
   "cell_type": "markdown",
   "id": "b415fae9",
   "metadata": {},
   "source": [
    "#### Language"
   ]
  },
  {
   "cell_type": "code",
   "execution_count": null,
   "id": "6524475c",
   "metadata": {},
   "outputs": [],
   "source": [
    "# Group all non-English languages\n",
    "def language_simplify(language):\n",
    "    try:\n",
    "        if language=='English':\n",
    "            return 'English'\n",
    "        if language =='Prefer not to say':\n",
    "            return None\n",
    "        else:\n",
    "            return 'Other<br>Language'\n",
    "    except:\n",
    "        return None\n",
    "    \n",
    "all_df['language'] = all_df['language'].apply(lambda x:language_simplify(x)) "
   ]
  },
  {
   "cell_type": "code",
   "execution_count": null,
   "id": "202b726a",
   "metadata": {},
   "outputs": [],
   "source": [
    "# Format data for bar plot \n",
    "language_df = all_df.groupby(['language' ,'covid_test_result']).size().to_frame().reset_index().rename(columns={0:'counts'})"
   ]
  },
  {
   "cell_type": "code",
   "execution_count": null,
   "id": "3bed4fdd",
   "metadata": {},
   "outputs": [],
   "source": [
    "# Generate plotly traces\n",
    "pos_language_trace = go.Bar(\n",
    "    x=language_df[language_df['covid_test_result']=='Positive']['language'],\n",
    "    y=100*language_df[language_df['covid_test_result']=='Positive']['counts']/participants,\n",
    "    name='COVID Positive',\n",
    "    showlegend=False,\n",
    "    marker_color='rgba(230,159,0,1)',\n",
    ")\n",
    "\n",
    "neg_language_trace = go.Bar(\n",
    "    x=language_df[language_df['covid_test_result']=='Negative']['language'],\n",
    "    y=100*language_df[language_df['covid_test_result']=='Negative']['counts']/participants,\n",
    "    name='COVID Negative',\n",
    "    showlegend=False,\n",
    "    marker_color='rgba(86,180,233,1)'\n",
    ")\n",
    "\n",
    "language_traces = [pos_language_trace, neg_language_trace]"
   ]
  },
  {
   "cell_type": "markdown",
   "id": "0e1adf30",
   "metadata": {},
   "source": [
    "#### Age"
   ]
  },
  {
   "cell_type": "code",
   "execution_count": null,
   "id": "500b3a98",
   "metadata": {},
   "outputs": [],
   "source": [
    "# Generates plotly traces\n",
    "\n",
    "colors = {'Positive':'#E69F00','Negative':'#56B4E9'}\n",
    "\n",
    "\n",
    "age_trace_1 = go.Violin(\n",
    "        x=all_df[all_df['covid_test_result']=='Positive']['covid_test_result'],\n",
    "        y=all_df[all_df['covid_test_result']=='Positive']['age'],\n",
    "        name='Positive',\n",
    "        box_visible=False,\n",
    "        meanline_visible=False,\n",
    "        points=False,\n",
    "        orientation='v',\n",
    "        side='negative',\n",
    "        marker=dict(color='#E69F00'),\n",
    "        fillcolor='#E69F00',\n",
    "        scalegroup='A',\n",
    "        scalemode='count',\n",
    "        spanmode='hard',\n",
    "        showlegend=False,\n",
    "        opacity=1,\n",
    "    )\n",
    "    \n",
    "age_trace_2 = go.Box( # not visible, used to offset visible boxplot\n",
    "        x=all_df[all_df['covid_test_result']=='Positive']['covid_test_result'],\n",
    "        y=all_df[all_df['covid_test_result']=='Positive']['age'],\n",
    "        name='Positive',\n",
    "        orientation='v',\n",
    "        offsetgroup='A',\n",
    "        opacity=0,\n",
    "        showlegend=False,\n",
    "    )\n",
    "    \n",
    "age_trace_3 = go.Box(\n",
    "        x=all_df[all_df['covid_test_result']=='Positive']['covid_test_result'],\n",
    "        y=all_df[all_df['covid_test_result']=='Positive']['age'],\n",
    "        orientation='v',\n",
    "        boxmean=True,\n",
    "        offsetgroup='B',\n",
    "        boxpoints=False,\n",
    "        line=dict(color='#E69F00'),\n",
    "        showlegend=False,\n",
    "    )\n",
    "\n",
    "\n",
    "age_trace_4 = go.Violin(\n",
    "        x=all_df[all_df['covid_test_result']=='Negative']['covid_test_result'],\n",
    "        y=all_df[all_df['covid_test_result']=='Negative']['age'],\n",
    "        name='Positive',\n",
    "        box_visible=False,\n",
    "        meanline_visible=False,\n",
    "        points=False,\n",
    "        orientation='v',\n",
    "        side='negative',\n",
    "        marker=dict(color='#56B4E9'),\n",
    "        fillcolor='#56B4E9',\n",
    "        scalegroup='A',\n",
    "        scalemode='count',\n",
    "        spanmode='hard',\n",
    "        showlegend=False,\n",
    "        opacity=1,\n",
    "    )\n",
    "    \n",
    "age_trace_5 = go.Box( # not visible, used to offset visible boxplot\n",
    "        x=all_df[all_df['covid_test_result']=='Negative']['covid_test_result'],\n",
    "        y=all_df[all_df['covid_test_result']=='Negative']['age'],\n",
    "        name='Positive',\n",
    "        orientation='v',\n",
    "        offsetgroup='A',\n",
    "        opacity=0,\n",
    "        showlegend=False,\n",
    "    )\n",
    "    \n",
    "age_trace_6 = go.Box(\n",
    "        x=all_df[all_df['covid_test_result']=='Negative']['covid_test_result'],\n",
    "        y=all_df[all_df['covid_test_result']=='Negative']['age'],\n",
    "        orientation='v',\n",
    "        boxmean=True,\n",
    "        offsetgroup='B',\n",
    "        boxpoints=False,\n",
    "        line=dict(color='#56B4E9'),\n",
    "        showlegend=False,\n",
    "    )\n",
    "\n",
    "age_traces = [age_trace_1, age_trace_2, age_trace_3, age_trace_4, age_trace_5, age_trace_6]"
   ]
  },
  {
   "cell_type": "markdown",
   "id": "5b80b582",
   "metadata": {},
   "source": [
    "#### Gender"
   ]
  },
  {
   "cell_type": "code",
   "execution_count": null,
   "id": "4ef04eaa",
   "metadata": {},
   "outputs": [],
   "source": [
    "# Renames variables, formats data for bar plot, removes no repsonse\n",
    "\n",
    "all_df['gender']=all_df['gender'].apply(lambda x:'Women' if x=='Female' else x)\n",
    "all_df['gender']=all_df['gender'].apply(lambda x:'Men' if x=='Male' else x)\n",
    "all_df['gender']=all_df['gender'].apply(lambda x:'Not Recorded' if x=='Unknown' else x)\n",
    "\n",
    "gender_df = all_df.groupby(['gender' ,'covid_test_result']).size().to_frame().reset_index().rename(columns={0:'counts'})\n",
    "gender_df=gender_df[gender_df['gender']!='Not Recorded'] "
   ]
  },
  {
   "cell_type": "code",
   "execution_count": null,
   "id": "01e7e577",
   "metadata": {},
   "outputs": [],
   "source": [
    "# Geneates plotly traces\n",
    "gender_pos_trace = go.Bar(\n",
    "    x=gender_df[gender_df['covid_test_result']=='Positive']['gender'],\n",
    "    y=100*gender_df[gender_df['covid_test_result']=='Positive']['counts']/participants,\n",
    "    name='COVID Positive',\n",
    "    showlegend=False,\n",
    "    marker_color='rgba(230,159,0,1)',\n",
    ")\n",
    "\n",
    "gender_neg_trace = go.Bar(\n",
    "    x=gender_df[gender_df['covid_test_result']=='Negative']['gender'],\n",
    "    y=100*gender_df[gender_df['covid_test_result']=='Negative']['counts']/participants,\n",
    "    name='COVID Negative',\n",
    "    showlegend=False,\n",
    "    marker_color='rgba(86,180,233,1)'\n",
    ")\n",
    "\n",
    "gender_traces = [gender_pos_trace, gender_neg_trace]"
   ]
  },
  {
   "cell_type": "markdown",
   "id": "6a232495",
   "metadata": {},
   "source": [
    "#### Ethnicity"
   ]
  },
  {
   "cell_type": "code",
   "execution_count": null,
   "id": "2f1812b3",
   "metadata": {},
   "outputs": [],
   "source": [
    "# Groups all ethnicities that are not white British for plot \n",
    "\n",
    "def ethnicity_simplify(ethnicity):\n",
    "    if ethnicity=='White British':\n",
    "        return 'White<br>British'\n",
    "    if ethnicity=='No response':\n",
    "        return None\n",
    "    else:\n",
    "        return 'Other<br>Ethnicity'\n",
    "    \n",
    "all_df['ethnicity'] = all_df['ethnicity'].apply(lambda x:ethnicity_simplify(x)) "
   ]
  },
  {
   "cell_type": "code",
   "execution_count": null,
   "id": "991fffc1",
   "metadata": {},
   "outputs": [],
   "source": [
    "# Formats data for bar plot \n",
    "\n",
    "ethnicity_df = all_df.groupby(['ethnicity' ,'covid_test_result']).size().to_frame().reset_index().rename(columns={0:'counts'})"
   ]
  },
  {
   "cell_type": "code",
   "execution_count": null,
   "id": "8ccd2e22",
   "metadata": {},
   "outputs": [],
   "source": [
    "# Generates plotly traces \n",
    "\n",
    "ethnicity_pos_trace = go.Bar(\n",
    "    x=ethnicity_df[ethnicity_df['covid_test_result']=='Positive']['ethnicity'],\n",
    "    y=100*ethnicity_df[ethnicity_df['covid_test_result']=='Positive']['counts']/participants,\n",
    "    name='COVID Positive',\n",
    "    showlegend=False,\n",
    "    marker_color='rgba(230,159,0,1)',\n",
    ")\n",
    "\n",
    "ethnicity_neg_trace = go.Bar(\n",
    "    x=ethnicity_df[ethnicity_df['covid_test_result']=='Negative']['ethnicity'],\n",
    "    y=100*ethnicity_df[ethnicity_df['covid_test_result']=='Negative']['counts']/participants,\n",
    "    name='COVID Negative',\n",
    "    showlegend=False,\n",
    "    marker_color='rgba(86,180,233,1)'\n",
    ")\n",
    "\n",
    "ethnicity_traces = [ethnicity_pos_trace, ethnicity_neg_trace]"
   ]
  },
  {
   "cell_type": "markdown",
   "id": "4b052675",
   "metadata": {},
   "source": [
    "#### UK administrative region\n",
    "Choropleth map plot "
   ]
  },
  {
   "cell_type": "code",
   "execution_count": null,
   "id": "523162fd",
   "metadata": {},
   "outputs": [],
   "source": [
    "region_df = participant_df.copy()\n",
    "participants = region_df.shape[0]"
   ]
  },
  {
   "cell_type": "code",
   "execution_count": null,
   "id": "32897a60",
   "metadata": {},
   "outputs": [],
   "source": [
    "# Gets aggregate participant counts by region \n",
    "region_df = region_df.groupby('region_code').size().reset_index()\n",
    "region_df.columns = ['region_code', 'count']\n",
    "region_df['percentage']=100*(region_df['count'])/participants"
   ]
  },
  {
   "cell_type": "code",
   "execution_count": null,
   "id": "e26beadd",
   "metadata": {},
   "outputs": [],
   "source": [
    "# Gets open-source UK countries and region boundaries from Office for National Statistics open geography portal \n",
    "countries_url=\"https://opendata.arcgis.com/datasets/e05662741ac2452081eaf663dfea92e3_0.geojson\" # Dec 2021\n",
    "regions_url=\"https://opendata.arcgis.com/datasets/64286008effe44b1be10a8c76e6e731c_0.geojson\" # Dec 2021\n",
    "\n",
    "countries_gdf= gpd.read_file(countries_url)\n",
    "region_gdf = gpd.read_file(regions_url)"
   ]
  },
  {
   "cell_type": "code",
   "execution_count": null,
   "id": "071b2ffd",
   "metadata": {},
   "outputs": [],
   "source": [
    "# combine countries and English regions boundaries \n",
    "countries_gdf = countries_gdf.drop(columns=['CTRY21NMW'])\n",
    "countries_gdf = countries_gdf.drop(index=0)\n",
    "countries_gdf.columns = region_gdf.columns\n",
    "\n",
    "uk_gdf = region_gdf.append(countries_gdf)\n",
    "uk_gdf = uk_gdf.merge(region_df, left_on='RGN21CD', right_on='region_code')"
   ]
  },
  {
   "cell_type": "code",
   "execution_count": null,
   "id": "3695215a",
   "metadata": {},
   "outputs": [],
   "source": [
    "# set to geo-dataframe and set Coodinate Reference System\n",
    "uk_gdf = gpd.GeoDataFrame(uk_gdf, geometry='geometry')\n",
    "uk_gdf.crs = {'init': 'epsg:4326'} \n",
    "\n",
    "geojson=uk_gdf.__geo_interface__"
   ]
  },
  {
   "cell_type": "code",
   "execution_count": null,
   "id": "4b66032d",
   "metadata": {},
   "outputs": [],
   "source": [
    "# Generates plotly trace\n",
    "region_trace = go.Choropleth(\n",
    "                               locations=uk_gdf[\"RGN21CD\"], # Spatial coordinates\n",
    "                               z = uk_gdf[\"percentage\"], # Data to be color-coded\n",
    "                               zmin=0,\n",
    "                               zmax=20, # extreme values excluded to avoid skewing colorscale\n",
    "                               geojson=geojson, # set of locations match entries in `locations\n",
    "                               featureidkey=\"properties.RGN21CD\", # feature geoJSON that matches the LAD boundaries you're interested in \n",
    "                               colorscale = [[0, '#E5F5F9'], [1, '#D55E00']],\n",
    "                               reversescale=False,\n",
    "                               marker_line={\"width\":0},\n",
    "                               colorbar_title = \"Participants<br>by Region<br />&nbsp;\", \n",
    "                               colorbar={\"titlefont\":{\"size\":14}, \"tickfont\":{\"size\":12}, \"thickness\":15, \"ticksuffix\":'%',\n",
    "                                         \"len\":0.25,\"yanchor\":\"bottom\",\"x\":0.57, 'outlinewidth':0},\n",
    ")"
   ]
  },
  {
   "cell_type": "markdown",
   "id": "f18094ee",
   "metadata": {},
   "source": [
    "#### Combined subplot for all Figure 2 traces"
   ]
  },
  {
   "cell_type": "code",
   "execution_count": null,
   "id": "f03ee135",
   "metadata": {},
   "outputs": [],
   "source": [
    "fig = make_subplots(rows=5, cols=4, vertical_spacing=0.125,\n",
    "                     subplot_titles=('<b>Sentence<b>', '<b>COVID Test Results<b>', '<b>Influenza Test Results<b>',\n",
    "                                   '<b>Exhalation<b>', '<b>Symptoms<b>', \n",
    "                                   '<b>One Cough<b>', '<b>Respiratory Conditions<b>', '<b>Smoker Status<b>',\n",
    "                                   '<b>Three Coughs<b>', '<b>Language<b>', '<b>UK Region<b>', \n",
    "                                   '<b>Age<b>', '<b>Gender<b>', '<b>Ethnicity<b>'),\n",
    "                    specs = [[{\"colspan\":2}, None, {}, {}],\n",
    "                    [{\"colspan\":2}, None, {\"colspan\":2}, None],\n",
    "                    [{\"colspan\":2}, None, {}, {}],\n",
    "                    [{\"colspan\":2}, None, {}, {\"type\":\"choropleth\", \"rowspan\":2}],\n",
    "                    [{}, {}, {}, None]] \n",
    "                        \n",
    "                        )\n",
    "\n",
    "# Audio traces can be uncommented to include if they are generated above \n",
    "#fig.add_trace(sentence_trace, row=1, col=1) \n",
    "#fig.add_trace(exhalation_trace, row=2, col=1) \n",
    "#fig.add_trace(one_cough_trace, row=3, col=1) \n",
    "#fig.add_trace(three_coughs_trace, row=4, col=1) \n",
    "\n",
    "for trace in covid_test_traces: \n",
    "    fig.add_trace(trace, row=1, col=3)\n",
    "\n",
    "fig.add_trace(flu_trace, row=1, col=4) \n",
    "\n",
    "for trace in symptom_traces: \n",
    "    fig.add_trace(trace, row=2, col=3)\n",
    "    \n",
    "\n",
    "for trace in condition_traces: \n",
    "    fig.add_trace(trace, row=3, col=3)\n",
    "\n",
    "for trace in smoker_traces: \n",
    "    fig.add_trace(trace, row=3, col=4)\n",
    "\n",
    "for trace in language_traces: \n",
    "    fig.add_trace(trace, row=4, col=3)\n",
    "\n",
    "\n",
    "fig.add_trace(region_trace, row=4, col=4) \n",
    "\n",
    "for trace in age_traces: \n",
    "    fig.add_trace(trace, row=5, col=1)\n",
    "\n",
    "for trace in gender_traces:\n",
    "    fig.add_trace(trace, row=5, col=2)\n",
    "    \n",
    "for trace in ethnicity_traces:\n",
    "    fig.add_trace(trace, row=5, col=3)\n",
    "    \n",
    "    \n",
    "fig.for_each_trace(\n",
    "    lambda trace: trace.update(colorbar=dict(x=0.925, y=0.16, len=0.15, borderwidth=0)) if trace.type == \"choropleth\" else ()\n",
    ")\n",
    "\n",
    "fig.for_each_trace(\n",
    "    lambda trace: trace.update(width=0.3, marker=dict(line=dict(width=0))) if trace.type == \"bar\" else ()\n",
    ")\n",
    "\n",
    "fig.for_each_trace(\n",
    "    lambda trace: trace.update(offset=0) if trace.type == \"bar\" and 'Negative' in trace.name else ()\n",
    ")\n",
    "\n",
    "fig.for_each_trace(\n",
    "    lambda trace: trace.update(offset=-0.3) if trace.type == \"bar\" and 'Positive' in trace.name else ()\n",
    ")\n",
    "\n",
    "fig.for_each_trace(\n",
    "    lambda trace: trace.update(legendgroup='A') if trace.type == \"bar\" and trace.offsetgroup == 'A' else trace.update(legendgroup='B')\n",
    ")\n",
    "\n",
    "fig.update_geos(\n",
    "    lataxis_range=[49.5,61.0],\n",
    "    lonaxis_range=[-7.8,1.7],\n",
    "    projection={\"type\":\"azimuthal equal area\"},\n",
    "    visible=False)\n",
    "\n",
    "\n",
    "fig.update_yaxes(showticklabels=False, ticks=\"\", col=1, row=1)\n",
    "fig.update_yaxes(showticklabels=False, ticks=\"\", col=1, row=2)\n",
    "fig.update_yaxes(showticklabels=False, ticks=\"\", col=1, row=3)\n",
    "fig.update_yaxes(showticklabels=False, ticks=\"\", col=1, row=4)\n",
    "fig.update_xaxes(title='Seconds', col=1, row=1)\n",
    "fig.update_xaxes(title='Seconds', col=1, row=2)\n",
    "fig.update_xaxes(title='Seconds', col=1, row=3)\n",
    "fig.update_xaxes(title='Seconds', col=1, row=4)\n",
    "fig.update_yaxes(ticksuffix=\"%\", col=3)\n",
    "fig.update_yaxes(ticksuffix=\"%\", col=4)\n",
    "fig.update_yaxes(ticksuffix=\"%\", row=5, col=2)\n",
    "fig.update_xaxes(tickangle=35, col=3)\n",
    "fig.update_xaxes(tickangle=35, col=4)\n",
    "fig.update_xaxes(tickangle=35, row=5)\n",
    "fig.update_layout(template='simple_white',\n",
    "                  font_family='Arial', font_size=12, \n",
    "                  width=1100, height=1300,\n",
    "                  legend_tracegroupgap=120,\n",
    "                 boxmode='group')\n",
    "\n",
    "fig.show()"
   ]
  },
  {
   "cell_type": "code",
   "execution_count": null,
   "id": "8c6634f5",
   "metadata": {},
   "outputs": [],
   "source": [
    "# Write plot to image \n",
    "fig.write_image('DataPaperFig2.svg', scale=1)\n",
    "fig.write_image('DataPaperFig2.png', scale=3)"
   ]
  },
  {
   "cell_type": "markdown",
   "id": "ec4fb21c",
   "metadata": {},
   "source": [
    "# Figure 3 - Technical Validation"
   ]
  },
  {
   "cell_type": "code",
   "execution_count": null,
   "id": "189857c6",
   "metadata": {},
   "outputs": [],
   "source": [
    "# Get statistic for number of audio channels in all audio files\n",
    "audio_df['cough_channels'].unique()"
   ]
  },
  {
   "cell_type": "code",
   "execution_count": null,
   "id": "6296edef",
   "metadata": {},
   "outputs": [],
   "source": [
    "# Get sentence audio transcript variables, drop where no audio \n",
    "outlier_df = audio_df[['sentence_outlier_score', 'sentence_transcript']]\n",
    "outlier_df = outlier_df.dropna(subset=['sentence_transcript']) # drop where not transcript \n",
    "outlier_df.sort_values(by=['sentence_outlier_score'])[0:1001]['sentence_transcript'].to_list()\n",
    "\n",
    "# Normalise outlier scores (High score = more agreement)\n",
    "outlier_min = outlier_df['sentence_outlier_score'].min()\n",
    "outlier_max = outlier_df['sentence_outlier_score'].max()\n",
    "outlier_df['Normalised Outlier Scores'] = outlier_df['sentence_outlier_score'].apply(lambda x: (x-outlier_min)/(outlier_max-outlier_min))\n",
    "outlier_df['Normalised Outlier Scores'] = outlier_df['Normalised Outlier Scores'].round(2)\n",
    "\n",
    "# Format dataframe for bar plot \n",
    "outlier_count_df = outlier_df.groupby('Normalised Outlier Scores').size().reset_index()\n",
    "outlier_count_df['checked_count'] = outlier_count_df[0].cumsum()\n",
    "outlier_count_df['checked'] = outlier_count_df['checked_count'].apply(lambda x: 1 if x<=1000 else 0)"
   ]
  },
  {
   "cell_type": "code",
   "execution_count": null,
   "id": "659d2c77",
   "metadata": {},
   "outputs": [],
   "source": [
    "# Get example transcripts "
   ]
  },
  {
   "cell_type": "code",
   "execution_count": null,
   "id": "f26c013f",
   "metadata": {},
   "outputs": [],
   "source": [
    "outlier_df[outlier_df['Normalised Outlier Scores']==0.99]['sentence_transcript'].iloc[0]"
   ]
  },
  {
   "cell_type": "code",
   "execution_count": null,
   "id": "b88532a4",
   "metadata": {},
   "outputs": [],
   "source": [
    "outlier_df[outlier_df['Normalised Outlier Scores']==0.68]['sentence_transcript'].iloc[1]"
   ]
  },
  {
   "cell_type": "code",
   "execution_count": null,
   "id": "c0833411",
   "metadata": {},
   "outputs": [],
   "source": [
    "outlier_df[outlier_df['Normalised Outlier Scores']==0.37]['sentence_transcript'].iloc[17]"
   ]
  },
  {
   "cell_type": "code",
   "execution_count": null,
   "id": "5ec76e69",
   "metadata": {},
   "outputs": [],
   "source": [
    "outlier_df[outlier_df['Normalised Outlier Scores']==0.11]['sentence_transcript'].iloc[14]"
   ]
  },
  {
   "cell_type": "code",
   "execution_count": null,
   "id": "af5e6865",
   "metadata": {},
   "outputs": [],
   "source": [
    "# Plot data\n",
    "\n",
    "fig = make_subplots(rows=5, cols=3, vertical_spacing=0.25, horizontal_spacing=0.15,\n",
    "                   specs=[[{\"rowspan\":2}, {\"rowspan\":2}, {\"rowspan\":2}],\n",
    "                          [None, None, None],\n",
    "           [{\"colspan\": 3, \"rowspan\":3}, None, None], [None, None, None], [None, None, None],\n",
    "                        ],)\n",
    "\n",
    "\n",
    "# Length subplot\n",
    "\n",
    "fig.add_trace(go.Violin(\n",
    "y=audio_df['sentence_length'],\n",
    "name='Sentence',\n",
    "marker_color = '#CC79A7',\n",
    "points=False, \n",
    "showlegend=False,\n",
    "fillcolor='rgba(204, 121, 167, 0.25)', \n",
    "scalegroup='A', \n",
    "scalemode='count', \n",
    "spanmode='manual', \n",
    "span=[audio_df['sentence_length'].quantile(0.005), audio_df['sentence_length'].quantile(0.995)], \n",
    "box=dict(visible=True)\n",
    "), row=1, col=1)\n",
    "\n",
    "fig.add_trace(go.Violin(\n",
    "y=audio_df['exhalation_length'],\n",
    "name='Exhalation',\n",
    "marker_color = '#CC79A7',\n",
    "points=False, \n",
    "showlegend=False,\n",
    "fillcolor='rgba(204, 121, 167, 0.25)', \n",
    "scalegroup='A', \n",
    "scalemode='count', \n",
    "spanmode='manual', \n",
    "span=[audio_df['exhalation_length'].quantile(0.005), audio_df['exhalation_length'].quantile(0.995)], \n",
    "box=dict(visible=True)\n",
    "), row=1, col=1)\n",
    "\n",
    "fig.add_trace(go.Violin(\n",
    "y=audio_df['cough_length'],\n",
    "name='One Cough',\n",
    "marker_color = '#CC79A7',\n",
    "points=False, \n",
    "showlegend=False,\n",
    "fillcolor='rgba(204, 121, 167, 0.25)',  \n",
    "scalemode='count',\n",
    "scalegroup='A', \n",
    "spanmode='manual', \n",
    "span=[audio_df['cough_length'].quantile(0.005), audio_df['cough_length'].quantile(0.995)],\n",
    "box=dict(visible=True)\n",
    "), row=1, col=1)\n",
    "\n",
    "fig.add_trace(go.Violin(\n",
    "y=audio_df['three_cough_length'],\n",
    "name='Three Coughs',\n",
    "marker_color = '#CC79A7',\n",
    "scalegroup='A', \n",
    "scalemode='count', \n",
    "spanmode='manual', \n",
    "span=[audio_df['three_cough_length'].quantile(0.005), audio_df['three_cough_length'].quantile(0.995)], \n",
    "points=False, \n",
    "showlegend=False,\n",
    "fillcolor='rgba(204, 121, 167, 0.25)', \n",
    "box=dict(visible=True)\n",
    "), row=1, col=1)\n",
    "\n",
    "\n",
    "# Amplitude subplot\n",
    "\n",
    "fig.add_trace(go.Violin(\n",
    "y=audio_df['sentence_amplitude'],\n",
    "name='Sentence',\n",
    "marker_color = '#CC79A7',\n",
    "scalegroup='B', \n",
    "scalemode='count', \n",
    "spanmode='manual', \n",
    "span=[audio_df['sentence_amplitude'].quantile(0.005), audio_df['sentence_amplitude'].quantile(0.995)], \n",
    "points=False, \n",
    "showlegend=False,\n",
    "fillcolor='rgba(204, 121, 167, 0.25)', \n",
    "box=dict(visible=True)\n",
    "), row=1, col=2)\n",
    "\n",
    "fig.add_trace(go.Violin(\n",
    "y=audio_df['exhalation_amplitude'],\n",
    "name='Exhalation',\n",
    "marker_color = '#CC79A7',\n",
    "scalegroup='B', \n",
    "scalemode='count', \n",
    "spanmode='manual', \n",
    "span=[audio_df['exhalation_amplitude'].quantile(0.005), audio_df['exhalation_amplitude'].quantile(0.995)],\n",
    "points=False, \n",
    "showlegend=False,\n",
    "fillcolor='rgba(204, 121, 167, 0.25)', \n",
    "box=dict(visible=True)\n",
    "), row=1, col=2)\n",
    "\n",
    "fig.add_trace(go.Violin(\n",
    "y=audio_df['cough_amplitude'],\n",
    "name='One Cough',\n",
    "marker_color = '#CC79A7',\n",
    "scalegroup='B', \n",
    "scalemode='count', \n",
    "spanmode='manual', \n",
    "span=[audio_df['cough_amplitude'].quantile(0.005), audio_df['cough_amplitude'].quantile(0.995)],\n",
    "points=False, \n",
    "showlegend=False,\n",
    "fillcolor='rgba(204, 121, 167, 0.25)', \n",
    "box=dict(visible=True)\n",
    "), row=1, col=2)\n",
    "\n",
    "fig.add_trace(go.Violin(\n",
    "y=audio_df['three_cough_amplitude'],\n",
    "name='Three Coughs',\n",
    "marker_color = '#CC79A7',\n",
    "scalegroup='B', \n",
    "scalemode='count', \n",
    "spanmode='manual', \n",
    "span=[audio_df['three_cough_amplitude'].quantile(0.005), audio_df['three_cough_amplitude'].quantile(0.995)],\n",
    "points=False, \n",
    "showlegend=False,\n",
    "fillcolor='rgba(204, 121, 167, 0.25)',  \n",
    "box=dict(visible=True)\n",
    "), row=1, col=2)\n",
    "\n",
    "\n",
    "# Variance subplot\n",
    "\n",
    "fig.add_trace(go.Violin(\n",
    "y=audio_df['sentence_snr'],\n",
    "name='Sentence',\n",
    "marker_color = '#CC79A7',\n",
    "scalegroup='C', \n",
    "scalemode='count', \n",
    "spanmode='manual',\n",
    "span=[audio_df['sentence_snr'].quantile(0.005), audio_df['sentence_snr'].quantile(0.995)],\n",
    "points=False, \n",
    "showlegend=False,\n",
    "fillcolor='rgba(204, 121, 167, 0.25)', \n",
    "box=dict(visible=True)\n",
    "), row=1, col=3)\n",
    "\n",
    "fig.add_trace(go.Violin(\n",
    "y=audio_df['exhalation_snr'],\n",
    "name='Exhalation',\n",
    "marker_color = '#CC79A7',\n",
    "scalegroup='C',\n",
    "scalemode='count', \n",
    "spanmode='manual', \n",
    "span=[audio_df['exhalation_snr'].quantile(0.005), audio_df['exhalation_snr'].quantile(0.995)],\n",
    "points=False, \n",
    "showlegend=False,\n",
    "fillcolor='rgba(204, 121, 167, 0.25)',  \n",
    "box=dict(visible=True)\n",
    "), row=1, col=3)\n",
    "\n",
    "fig.add_trace(go.Violin(\n",
    "y=audio_df['cough_snr'],\n",
    "name='One Cough',\n",
    "marker_color = '#CC79A7',\n",
    "scalegroup='C',\n",
    "scalemode='count', \n",
    "spanmode='manual',\n",
    "span=[audio_df['cough_snr'].quantile(0.005), audio_df['cough_snr'].quantile(0.995)],\n",
    "points=False, \n",
    "showlegend=False,\n",
    "fillcolor='rgba(204, 121, 167, 0.25)', \n",
    "box=dict(visible=True)\n",
    "), row=1, col=3)\n",
    "\n",
    "fig.add_trace(go.Violin(\n",
    "y=audio_df['three_cough_snr'],\n",
    "name='Three Coughs',\n",
    "marker_color = '#CC79A7',\n",
    "scalegroup='C',\n",
    "scalemode='count', \n",
    "spanmode='manual', \n",
    "span=[audio_df['three_cough_snr'].quantile(0.005), audio_df['three_cough_snr'].quantile(0.995)],\n",
    "points=False, \n",
    "showlegend=False,\n",
    "fillcolor='rgba(204, 121, 167, 0.25)', \n",
    "box=dict(visible=True)\n",
    "), row=1, col=3)\n",
    "\n",
    "\n",
    "# Sentence transcript outlier subplot \n",
    "\n",
    "fig.add_trace(go.Bar(\n",
    "    x=outlier_count_df[outlier_count_df['checked']==1]['Normalised Outlier Scores'],\n",
    "    y=outlier_count_df[outlier_count_df['checked']==1][0],\n",
    "    marker_color='#009E73',\n",
    "    name='Manually checked',\n",
    "    showlegend=True,\n",
    "), row=3, col=1)\n",
    "\n",
    "fig.add_trace(go.Bar(\n",
    "    x=outlier_count_df[outlier_count_df['checked']==0]['Normalised Outlier Scores'],\n",
    "    y=outlier_count_df[outlier_count_df['checked']==0][0],\n",
    "    marker_color='#56B4E9',\n",
    "    name='Sampled',\n",
    "    showlegend=True,\n",
    "), row=3, col=1)\n",
    "\n",
    "fig.add_annotation(x=0.99, y=3.75,\n",
    "            text=\"\",\n",
    "            showarrow=True,\n",
    "            align='left',\n",
    "            yshift=0,\n",
    "            xshift=-2,\n",
    "            arrowhead=1, \n",
    "                  row=3, col=1)\n",
    "\n",
    "fig.add_annotation(x=0.86, y=4.5,\n",
    "            text='\"I love nothing more than<br>an afternoon cream tea\"',\n",
    "            showarrow=False,\n",
    "            align='left',\n",
    "            yshift=0,\n",
    "            xshift=-2,\n",
    "            arrowhead=1, \n",
    "                  row=3, col=1)\n",
    "\n",
    "fig.add_annotation(x=0.68, y=2.95,\n",
    "            text=\"\",\n",
    "            showarrow=True,\n",
    "            align='left',\n",
    "            yshift=0,\n",
    "            xshift=-2,\n",
    "            arrowhead=1, \n",
    "                  row=3, col=1)\n",
    "\n",
    "fig.add_annotation(x=0.60, y=3.78,\n",
    "            text='\"Isle of nothing more than<br>an afternoon cream tea\"',\n",
    "            showarrow=False,\n",
    "            align='left',\n",
    "            yshift=0,\n",
    "            xshift=-2,\n",
    "            arrowhead=1,\n",
    "                  row=3, col=1)\n",
    "\n",
    "\n",
    "fig.add_annotation(x=0.37, y=1.92,\n",
    "            text=\"\",\n",
    "            showarrow=True,\n",
    "            align='left',\n",
    "            yshift=0,\n",
    "            xshift=-2,\n",
    "            arrowhead=1, \n",
    "                  row=3, col=1)\n",
    "\n",
    "fig.add_annotation(x=0.43, y=2.73,\n",
    "            text='\"ah ah i look nothing more than<br>an afternoon at gravity\"',\n",
    "            showarrow=False,\n",
    "            align='left',\n",
    "            yshift=0,\n",
    "            xshift=-2,\n",
    "            arrowhead=1, \n",
    "                  row=3, col=1)\n",
    "\n",
    "fig.add_annotation(x=0.11, y=1.4,\n",
    "            text=\"\",\n",
    "            showarrow=True,\n",
    "            align='left',\n",
    "            yshift=0,\n",
    "            xshift=-2,\n",
    "            arrowhead=1,\n",
    "                  row=3, col=1)\n",
    "\n",
    "fig.add_annotation(x=0.09, y=2.2,\n",
    "            text=\"\\\"but I don't<br>think that\\\"\",\n",
    "            showarrow=False,\n",
    "            align='left',\n",
    "            yshift=0,\n",
    "            xshift=-2,\n",
    "            arrowhead=1, \n",
    "                  row=3, col=1)\n",
    "\n",
    "fig.update_annotations(dict(ay=-15))\n",
    "fig.update_xaxes(tickangle=45, row=1)\n",
    "fig.update_yaxes(range=[0,20], row=1, col=1)\n",
    "fig.update_yaxes(type='log', row=1, range=[-1.25, 0], col=3)\n",
    "fig.update_yaxes(type='log', title='Count', title_standoff=0.05, row=3, col=1)\n",
    "fig.update_xaxes(title='Normalised Outlier Score', row=3, col=1)\n",
    "fig.update_yaxes(title='Length (seconds)', title_standoff=0.05, row=1, col=1)\n",
    "fig.update_yaxes(title='Amplitude (AU)', title_standoff=0.05, row=1, col=2)\n",
    "fig.update_yaxes(title='Mean/SD (ratio)', title_standoff=0.05, nticks=2, row=1, col=3)\n",
    "fig.update_layout(template='simple_white', violingap=0, violingroupgap=0.1, legend=dict(y=0.45, x=0.05),\n",
    "                  font_family='Arial', font_size=13, width=750, height=600)\n"
   ]
  },
  {
   "cell_type": "code",
   "execution_count": null,
   "id": "9f7b5982",
   "metadata": {},
   "outputs": [],
   "source": [
    "# Write plot to image \n",
    "fig.write_image(\"DataPaperFig3.svg\", scale=1)\n",
    "fig.write_image(\"DataPaperFig3.png\", scale=3)"
   ]
  },
  {
   "cell_type": "markdown",
   "id": "01591cf3",
   "metadata": {},
   "source": [
    "## Figure 4 - Bias"
   ]
  },
  {
   "cell_type": "code",
   "execution_count": null,
   "id": "2e7f85e3",
   "metadata": {},
   "outputs": [],
   "source": [
    "## ONS Census 2021 data\n",
    "# from https://www.ons.gov.uk/peoplepopulationandcommunity/populationandmigration/populationestimates/datasets/populationandhouseholdestimatesenglandandwalescensus2021\n",
    "\n",
    "data = ',Age,Total,% Total\\n0,0-4,3077000,5.447010693984921\\n1,5-9,3348600,5.927806308052618\\n2,10-14,3413100,6.041986415222598\\n3,15-19,3218900,5.698206929758876\\n4,20-24,3414400,6.044287719708195\\n5,25-29,3715400,6.5771282198347665\\n6,30-34,3952600,6.997027776745141\\n7,35-39,3795400,6.718746957409935\\n8,40-44,3580400,6.338146600176669\\n9,45-49,3602600,6.377445799853779\\n10,50-54,3907700,6.917544260281078\\n11,55-59,3806300,6.738042510404552\\n12,60-64,3256100,5.76405964273133\\n13,65-69,2767500,4.899123202990988\\n14,70-74,2796600,4.950637018783955\\n15,75-79,2038800,3.609153527103171\\n16,80-84,1427900,2.52771744229479\\n17,85-89,872200,1.5439982864132753\\n18,90+,498200,0.8819306882493623\\n'\n",
    "census_age_df = pd.read_csv(StringIO(data), header=0)\n",
    "\n",
    "data = ',Gender,Total,% Total\\n0,Women,28833500,51.04195801719956\\n1,Men,27656300,48.95804198280044\\n'\n",
    "census_gender_df = pd.read_csv(StringIO(data), header=0)\n",
    "\n",
    "data = ',Region,Total,% Total\\n0,East Midlands,4880200,8.639081745731088\\n1,East of England,6334500,11.213528814051386\\n2,London,8799800,15.577679510283273\\n3,North East,2647100,4.685978707660498\\n4,North West,7417300,13.13033503393533\\n5,South East,9278100,16.42438103870079\\n6,South West,5701200,10.092441467309143\\n7,West Midlands,5950800,10.534291146366247\\n8,Yorkshire and The Humber,5480800,9.702282535962244\\n'\n",
    "census_region_df = pd.read_csv(StringIO(data), header=0)"
   ]
  },
  {
   "cell_type": "code",
   "execution_count": null,
   "id": "05cc144b",
   "metadata": {},
   "outputs": [],
   "source": [
    "# TT Data \n",
    "# from Weekly statistics for NHS Test and Trace (England) 2 to 15 June 2022. 22 https://assets.publishing.service.gov.uk/government/uploads/system/uploads/attachment_data/file/1085136/NHS-test-and-trace-23-june-2022.pdf (2022)\n",
    "\n",
    "data = ',Age,Positive,Total,% Total,% Positive\\n0,0-9,1032524.0,7510511.0,6.488996382902808,0.8920890337901561\\n1,10-19,2065689.0,9333016.0,8.063620047367488,1.7847318843154771\\n2,20-29,1979192.0,17078289.0,14.755448137572639,1.7099994566375276\\n3,30-39,1967645.0,19531060.0,16.874614482857123,1.7000229795065604\\n4,40-49,1691963.0,17790251.0,15.370575236482987,1.4618368559749642\\n5,50-59,1266484.0,18753357.0,16.202687905028707,1.0942278221820434\\n6,60-69,643160.0,11779362.0,10.177235265470324,0.5556829506844169\\n7,70-79,329558.0,6770194.0,5.849370885356575,0.28473437692277975\\n8,80-89,158203.0,4873396.0,4.210558910898741,0.13668559899111699\\n9,90+,56520.0,2322823.0,2.0068927460626114,0.04883263942515585\\n'\n",
    "tt_age_df = pd.read_csv(StringIO(data), header=0)\n",
    "data = ',Gender,Positive,Total,% Total,% Positive\\n0,Women,5913615.0,68650051.0,59.40748549683927,5.1174469971827286\\n1,Men,5239446.0,46907863.0,40.59251450316073,4.534043423456052\\n'\n",
    "tt_gender_df = pd.read_csv(StringIO(data), header=0)\n",
    "data = ',Region,Positive,Total,% Total,% Positive\\n0,East Midlands,972070.0,8855595.0,7.5848326660656475,0.8325796617508405\\n1,East of England,1190555.0,13218132.0,11.321353266264735,1.019712447864631\\n2,London,1784633.0,21534221.0,18.444098096071112,1.5285412979408763\\n3,North East,604307.0,5366546.0,4.596456071528106,0.5175900065362219\\n4,North West,1596281.0,15003841.0,12.850816160094842,1.3672174792343077\\n5,South East,1742775.0,19825174.0,16.980296339843385,1.4926898474470163\\n6,South West,1045968.0,11934850.0,10.222219980090959,0.8958734285002141\\n7,West Midlands,1140933.0,11278614.0,9.660152693878315,0.9772111177388169\\n8,Yorkshire and The Humber,1127128.0,9737020.0,8.339774726162899,0.9653871110001351\\n'\n",
    "tt_region_df = pd.read_csv(StringIO(data), header=0)"
   ]
  },
  {
   "cell_type": "code",
   "execution_count": null,
   "id": "a1d0440a",
   "metadata": {},
   "outputs": [],
   "source": [
    "## REACT data \n",
    "# from various REACT reports listed here https://www.imperial.ac.uk/medicine/research-and-impact/groups/react-study/real-time-assessment-of-community-transmission-findings/\n",
    "\n",
    "data = ',Age,Positive,Total,% Total,% Positive\\n0,5-17,2417,66558,11.222337438984294,0.40753011794262206\\n1,18-24,429,20806,3.508097490241702,0.0723336452616404\\n2,25-34,1086,52657,8.878491278653144,0.18311034674625054\\n3,35-44,1629,74586,12.575937681782543,0.2746655201193758\\n4,45-54,1681,94364,15.910704199229453,0.28343323469654436\\n5,55-64,1657,117480,19.808290548572295,0.27938659719938963\\n6,65-74,1284,110912,18.700860753517624,0.2164951060977769\\n7,75+,503,55722,9.395280609018943,0.08481077754453409\\n'\n",
    "react_age_df = pd.read_csv(StringIO(data), header=0)\n",
    "\n",
    "data = ',Gender,Positive,Total,% Total,% Positive\\n1,Women,5798,330449,55.716971429053174,0.9776001753542916\\n0,Men,4888,262613,44.27915054334539,0.8241651702538422\\n2,Unknown,0,23,0.0038780276014399287,0.0\\n'\n",
    "react_gender_df = pd.read_csv(StringIO(data), header=0)\n",
    "react_gender_df = react_gender_df.drop(index=2)\n",
    "\n",
    "data = ',Ethnicity,Positive,Total,% Total,% Positive\\n1,Asian,749,33464,5.642361550199381,0.12628881189036983\\n2,Black,264,11528,1.9437348777999781,0.04451301246870179\\n3,Mixed,260,10700,1.8041258841481407,0.04383857288584267\\n4,Other,134,6182,1.042346375308767,0.022593726025780452\\n5,Unknown,245,13920,2.347049748349731,0.04130942445012098\\n0,White,9034,517291,87.220381564194,1.523221797887318\\n'\n",
    "react_ethnicity_df = pd.read_csv(StringIO(data), header=0)\n",
    "react_ethnicity_df = react_ethnicity_df.drop(index=4)\n",
    "\n",
    "data = ',Region,Positive,Total,% Total,% Positive\\n4,East Midlands,932,51826,8.738376455314162,0.1571444228061745\\n6,East of England,1056,68559,11.559725840309568,0.17805204987480716\\n7,London,1647,89478,15.086876248767041,0.27770049824224186\\n1,North East,546,26724,4.505930853081767,0.09206100306026961\\n2,North West,1368,70615,11.906387785899154,0.23065833733781835\\n0,South East,1701,103625,17.472200443444027,0.2868054326108399\\n8,South West,1067,65180,10.989993002689328,0.17990675872766973\\n5,West Midlands,1101,59791,10.081354274682381,0.18563949518197223\\n3,Yorkshire and The Humber,1124,57287,9.659155095812574,0.18951752278341216\\n'\n",
    "react_region_df = pd.read_csv(StringIO(data), header=0)"
   ]
  },
  {
   "cell_type": "code",
   "execution_count": null,
   "id": "b36a5cc4",
   "metadata": {},
   "outputs": [],
   "source": [
    "bam_total_df = participant_df.copy()"
   ]
  },
  {
   "cell_type": "code",
   "execution_count": null,
   "id": "1fb10634",
   "metadata": {},
   "outputs": [],
   "source": [
    "gender_dict = {\n",
    "    'Female':'Women',\n",
    "    'Male':'Men',\n",
    "    'Unknown': 'Unknown'\n",
    "}\n",
    "\n",
    "# Group ethnicities to match categories from external data sources \n",
    "ethnicity_dict = {\n",
    "    'White British':'White', \n",
    "    'Another White background':'White',\n",
    "    'Pakistani':'Asian',\n",
    "    'No response': 'Unknown',\n",
    "    'Another ethnic background': 'Other',\n",
    "    'Black African and White': 'Mixed',\n",
    "    'Indian': 'Asian',\n",
    "    'Irish': 'White',\n",
    "    'Chinese': 'Asian',\n",
    "    'Another Mixed background': 'Mixed',\n",
    "    'Another Asian background': 'Asian',\n",
    "    'Caribbean': 'Black',\n",
    "    'Asian and White': 'Mixed',\n",
    "    'African': 'Black',\n",
    "    'Black Caribbean and White': 'Mixed',\n",
    "    'Another Black background': 'Black',\n",
    "    'Bangladeshi': 'Asian',\n",
    "    'Jewish': 'Other',\n",
    "    'Arab': 'Asian',\n",
    "    'Irish Traveller or Gypsy': 'White'}\n",
    "\n",
    "bam_total_df['ethnicity'] = bam_total_df['ethnicity'].map(ethnicity_dict)\n",
    "bam_total_df['gender'] = bam_total_df['gender'].map(gender_dict)"
   ]
  },
  {
   "cell_type": "code",
   "execution_count": null,
   "id": "1a06d69a",
   "metadata": {},
   "outputs": [],
   "source": [
    "# Format age, make numeric (all ages > 94 will be grouped)\n",
    "bam_total_df['age'] = bam_total_df['age'].replace('94+', 94)"
   ]
  },
  {
   "cell_type": "code",
   "execution_count": null,
   "id": "97be21d2",
   "metadata": {},
   "outputs": [],
   "source": [
    "bam_pos_total_df = bam_total_df[bam_total_df['covid_test_result']=='Positive']\n",
    "\n",
    "# TT data only PCR & LAMP (filtered by testing types containing 'P')\n",
    "bam_tt_df = bam_total_df[(bam_total_df['recruitment_source']=='Test and Trace') & (bam_total_df['covid_test_method'].str.contains('P', na=False))]\n",
    "bam_pos_tt_df = bam_tt_df[bam_tt_df['covid_test_result']=='Positive']\n",
    "\n",
    "bam_react_df = bam_total_df[bam_total_df['recruitment_source'].str.contains('REACT')]\n",
    "bam_pos_react_df = bam_react_df[bam_react_df['covid_test_result']=='Positive']"
   ]
  },
  {
   "cell_type": "code",
   "execution_count": null,
   "id": "61e08242",
   "metadata": {},
   "outputs": [],
   "source": [
    "bam_tt = bam_tt_df.shape[0]\n",
    "bam_react = bam_react_df.shape[0]\n",
    "bam_total = bam_total_df.shape[0]"
   ]
  },
  {
   "cell_type": "code",
   "execution_count": null,
   "id": "a0eb6cc0",
   "metadata": {},
   "outputs": [],
   "source": [
    "census_ages = [0, 5, 10, 15, 20, 25, 30, 35, 40, 45, 50, 55, 60, 65, 70, 75, 80, 85, 90, 110]\n",
    "\n",
    "# Format dataset to Census age categories \n",
    "bam_total_age_df = bam_total_df.groupby(pd.cut(bam_total_df[\"age\"], census_ages, right=False)).size().reset_index()\n",
    "bam_total_age_df['Age'] = census_age_df['Age']\n",
    "bam_total_age_df.columns = ['.', 'Total', 'Age']\n",
    "bam_total_age_df['% Total'] = 100*bam_total_age_df['Total']/bam_total\n",
    "\n",
    "bam_pos_total_age_df = bam_pos_total_df.groupby(pd.cut(bam_pos_total_df[\"age\"], census_ages, right=False)).size().reset_index()\n",
    "bam_pos_total_age_df['Age'] = census_age_df['Age']\n",
    "bam_pos_total_age_df.columns = ['.', 'Positive', 'Age']\n",
    "bam_pos_total_age_df['% Positive'] = 100*bam_pos_total_age_df['Positive']/bam_total"
   ]
  },
  {
   "cell_type": "code",
   "execution_count": null,
   "id": "573edc06",
   "metadata": {},
   "outputs": [],
   "source": [
    "tt_ages = [0, 10, 20, 30, 40, 50, 60, 70, 80, 90, 110]\n",
    "\n",
    "# Format dataset to Test and Trace report age categories \n",
    "bam_tt_age_df = bam_tt_df.groupby(pd.cut(bam_tt_df[\"age\"], tt_ages, right=False)).size().reset_index()\n",
    "bam_tt_age_df['Age'] = tt_age_df['Age']\n",
    "bam_tt_age_df.columns = ['.', 'Total', 'Age']\n",
    "bam_tt_age_df['% Total'] = 100*bam_tt_age_df['Total']/bam_tt\n",
    "\n",
    "bam_pos_tt_age_df = bam_pos_tt_df.groupby(pd.cut(bam_pos_tt_df[\"age\"], tt_ages, right=False)).size().reset_index()\n",
    "bam_pos_tt_age_df['Age'] = tt_age_df['Age']\n",
    "bam_pos_tt_age_df.columns = ['.', 'Positive', 'Age']\n",
    "bam_pos_tt_age_df['% Positive'] = 100*bam_pos_tt_age_df['Positive']/bam_tt"
   ]
  },
  {
   "cell_type": "code",
   "execution_count": null,
   "id": "f412a546",
   "metadata": {},
   "outputs": [],
   "source": [
    "react_ages = [5, 18, 25, 35, 45, 55, 65, 75, 110]\n",
    "\n",
    "# Format dataset to REACT report age categories\n",
    "bam_react_age_df = bam_react_df.groupby(pd.cut(bam_react_df[\"age\"], react_ages, right=False)).size().reset_index()\n",
    "bam_react_age_df['Age'] = react_age_df['Age']\n",
    "bam_react_age_df.columns = ['.', 'Total', 'Age']\n",
    "bam_react_age_df['% Total'] = 100*bam_react_age_df['Total']/bam_react\n",
    "\n",
    "bam_pos_react_age_df = bam_pos_react_df.groupby(pd.cut(bam_pos_react_df[\"age\"], react_ages, right=False)).size().reset_index()\n",
    "bam_pos_react_age_df['Age'] = react_age_df['Age']\n",
    "bam_pos_react_age_df.columns = ['.', 'Positive', 'Age']\n",
    "bam_pos_react_age_df['% Positive'] = 100*bam_pos_react_age_df['Positive']/bam_react"
   ]
  },
  {
   "cell_type": "code",
   "execution_count": null,
   "id": "5cd1c85b",
   "metadata": {},
   "outputs": [],
   "source": [
    "regions=['South East', 'South West', 'North West', 'North East', 'London',\n",
    "       'Yorkshire and The Humber', 'East of England', 'West Midlands',\n",
    "       'East Midlands']\n",
    "\n",
    "# Region TT\n",
    "bam_tt_region_df = bam_tt_df['region_name'].value_counts(dropna=False).reset_index()\n",
    "bam_tt_region_df.columns = ['Region', 'Total']\n",
    "bam_tt_region_df['% Total'] = 100*bam_tt_region_df['Total']/bam_tt\n",
    "bam_tt_region_df=bam_tt_region_df[bam_tt_region_df['Region'].isin(regions)].sort_values(by='Region')\n",
    "\n",
    "bam_pos_tt_region_df = bam_pos_tt_df['region_name'].value_counts(dropna=False).reset_index()\n",
    "bam_pos_tt_region_df.columns = ['Region', 'Positive']\n",
    "bam_pos_tt_region_df['% Positive'] = 100*bam_pos_tt_region_df['Positive']/bam_tt\n",
    "bam_pos_tt_region_df=bam_pos_tt_region_df[bam_pos_tt_region_df['Region'].isin(regions)].sort_values(by='Region')\n",
    "\n",
    "# Region REACT \n",
    "bam_react_region_df = bam_react_df['region_name'].value_counts(dropna=False).reset_index()\n",
    "bam_react_region_df.columns = ['Region', 'Total']\n",
    "bam_react_region_df['% Total'] = 100*bam_react_region_df['Total']/bam_react\n",
    "bam_react_region_df=bam_react_region_df[bam_react_region_df['Region'].isin(regions)].sort_values(by='Region')\n",
    "\n",
    "bam_pos_react_region_df = bam_pos_react_df['region_name'].value_counts(dropna=False).reset_index()\n",
    "bam_pos_react_region_df.columns = ['Region', 'Positive']\n",
    "bam_pos_react_region_df['% Positive'] = 100*bam_pos_react_region_df['Positive']/bam_react\n",
    "bam_pos_react_region_df=bam_pos_react_region_df[bam_pos_react_region_df['Region'].isin(regions)].sort_values(by='Region')\n",
    "\n",
    "# Region Total\n",
    "bam_total_region_df = bam_total_df['region_name'].value_counts(dropna=False).reset_index()\n",
    "bam_total_region_df.columns = ['Region', 'Total']\n",
    "bam_total_region_df['% Total'] = 100*bam_total_region_df['Total']/bam_total\n",
    "bam_total_region_df=bam_total_region_df[bam_total_region_df['Region'].isin(regions)].sort_values(by='Region')\n",
    "\n",
    "bam_pos_total_region_df = bam_pos_total_df['region_name'].value_counts(dropna=False).reset_index()\n",
    "bam_pos_total_region_df.columns = ['Region', 'Total']\n",
    "bam_pos_total_region_df['% Positive'] = 100*bam_pos_total_region_df['Total']/bam_total\n",
    "bam_pos_total_region_df=bam_pos_total_region_df[bam_pos_total_region_df['Region'].isin(regions)].sort_values(by='Region')"
   ]
  },
  {
   "cell_type": "code",
   "execution_count": null,
   "id": "1139758e",
   "metadata": {},
   "outputs": [],
   "source": [
    "# Format region data for plotting\n",
    "\n",
    "bam_react_region_df = bam_react_region_df.replace('Yorkshire and The Humber', 'Y&H*')\n",
    "bam_pos_react_region_df = bam_pos_react_region_df.replace('Yorkshire and The Humber', 'Y&H*')\n",
    "\n",
    "bam_tt_region_df = bam_tt_region_df.replace('Yorkshire and The Humber', 'Y&H*')\n",
    "bam_pos_tt_region_df = bam_pos_tt_region_df.replace('Yorkshire and The Humber', 'Y&H*')\n",
    "\n",
    "bam_total_region_df = bam_total_region_df.replace('Yorkshire and The Humber', 'Y&H*')\n",
    "bam_pos_total_region_df = bam_pos_total_region_df.replace('Yorkshire and The Humber', 'Y&H*')\n",
    "\n",
    "react_region_df = react_region_df.replace('Yorkshire and The Humber', 'Y&H*')\n",
    "\n",
    "tt_region_df = tt_region_df.replace('Yorkshire and The Humber', 'Y&H*')\n",
    "\n",
    "census_region_df = census_region_df.replace('Yorkshire and The Humber', 'Y&H*')"
   ]
  },
  {
   "cell_type": "code",
   "execution_count": null,
   "id": "f885fae1",
   "metadata": {},
   "outputs": [],
   "source": [
    "# Format dataset to REACT report ethnicity categories \n",
    "bam_react_ethnicity_df = bam_react_df['ethnicity'].value_counts(dropna=False).reset_index()\n",
    "bam_react_ethnicity_df.columns = ['Ethnicity', 'Total']\n",
    "bam_react_ethnicity_df['% Total'] = 100*bam_react_ethnicity_df['Total']/bam_react\n",
    "bam_react_ethnicity_df=bam_react_ethnicity_df.sort_values(by='Ethnicity')\n",
    "bam_react_ethnicity_df = bam_react_ethnicity_df[bam_react_ethnicity_df['Ethnicity']!='Unknown']\n",
    "\n",
    "bam_pos_react_ethnicity_df = bam_pos_react_df['ethnicity'].value_counts(dropna=False).reset_index()\n",
    "bam_pos_react_ethnicity_df.columns = ['Ethnicity', 'Positive']\n",
    "bam_pos_react_ethnicity_df['% Positive'] = 100*bam_pos_react_ethnicity_df['Positive']/bam_react\n",
    "bam_pos_react_ethnicity_df=bam_pos_react_ethnicity_df.sort_values(by='Ethnicity')\n",
    "bam_pos_react_ethnicity_df = bam_pos_react_ethnicity_df[bam_pos_react_ethnicity_df['Ethnicity']!='Unknown']"
   ]
  },
  {
   "cell_type": "code",
   "execution_count": null,
   "id": "2603e23d",
   "metadata": {},
   "outputs": [],
   "source": [
    "# Get gender data for each dataset subset \n",
    "\n",
    "# TT\n",
    "bam_tt_gender_df = bam_tt_df['gender'].value_counts(dropna=False).reset_index()\n",
    "bam_tt_gender_df.columns = ['Gender', 'Total']\n",
    "bam_tt_gender_df['% Total'] = 100*bam_tt_gender_df['Total']/bam_tt\n",
    "bam_tt_gender_df = bam_tt_gender_df[0:2]\n",
    "\n",
    "bam_pos_tt_gender_df = bam_pos_tt_df['gender'].value_counts(dropna=False).reset_index()\n",
    "bam_pos_tt_gender_df.columns = ['Gender', 'Positive']\n",
    "bam_pos_tt_gender_df['% Positive'] = 100*bam_pos_tt_gender_df['Positive']/bam_tt\n",
    "bam_pos_tt_gender_df = bam_pos_tt_gender_df[0:2]\n",
    "\n",
    "# REACT\n",
    "bam_react_gender_df = bam_react_df['gender'].value_counts(dropna=False).reset_index()\n",
    "bam_react_gender_df.columns = ['Gender', 'Total']\n",
    "bam_react_gender_df['% Total'] = 100*bam_react_gender_df['Total']/bam_react\n",
    "bam_react_gender_df = bam_react_gender_df[0:2]\n",
    "\n",
    "bam_pos_react_gender_df = bam_pos_react_df['gender'].value_counts(dropna=False).reset_index()\n",
    "bam_pos_react_gender_df.columns = ['Gender', 'Positive']\n",
    "bam_pos_react_gender_df['% Positive'] = 100*bam_pos_react_gender_df['Positive']/bam_react\n",
    "bam_pos_react_gender_df = bam_pos_react_gender_df[0:2]\n",
    "\n",
    "# Total \n",
    "bam_total_gender_df = bam_total_df['gender'].value_counts(dropna=False).reset_index()\n",
    "bam_total_gender_df.columns = ['Gender', 'Total']\n",
    "bam_total_gender_df['% Total'] = 100*bam_total_gender_df['Total']/bam_total\n",
    "bam_total_gender_df = bam_total_gender_df[0:2]\n",
    "\n",
    "bam_pos_total_gender_df = bam_pos_total_df['gender'].value_counts(dropna=False).reset_index()\n",
    "bam_pos_total_gender_df.columns = ['Gender', 'Positive']\n",
    "bam_pos_total_gender_df['% Positive'] = 100*bam_pos_total_gender_df['Positive']/bam_total\n",
    "bam_pos_total_gender_df = bam_pos_total_gender_df[0:2]"
   ]
  },
  {
   "cell_type": "code",
   "execution_count": null,
   "id": "d576575c",
   "metadata": {},
   "outputs": [],
   "source": [
    "# Plot\n",
    "\n",
    "fig=make_subplots(rows=4, cols=3,\n",
    "                 vertical_spacing=0.175, horizontal_spacing=0.15,\n",
    "                 subplot_titles=(\"<b>Census 2021<b>\", \"<b>NHS Test and Trace<b>\", \"<b>REACT<b>\"))\n",
    "\n",
    "# Census age \n",
    "fig.add_trace(go.Bar(\n",
    "x=census_age_df['Age'],\n",
    "y=census_age_df['% Total'],\n",
    "width=0.4,\n",
    "offset=0,\n",
    "showlegend=False,\n",
    "marker_color=\"#56B4E9\",\n",
    "marker=dict(line=dict(width=0)),\n",
    "name=\"Census Total\"), \n",
    "             row=1, col=1)\n",
    "\n",
    "\n",
    "fig.add_trace(go.Bar(\n",
    "x=bam_total_age_df['Age'],\n",
    "y=bam_total_age_df['% Total'],\n",
    "width=0.4,\n",
    "offset=-0.4,\n",
    "showlegend=True,\n",
    "marker_color=\"#E69F00\",\n",
    "marker=dict(line=dict(width=0)),\n",
    "name=\"This Study Total\"),\n",
    "row=1, col=1)\n",
    "\n",
    "fig.add_trace(go.Bar(\n",
    "x=bam_pos_total_age_df['Age'],\n",
    "y=bam_pos_total_age_df['% Positive'],\n",
    "width=0.4,\n",
    "offset=-0.4,\n",
    "showlegend=True,\n",
    "marker_color=\"#D55E00\",\n",
    "marker=dict(line=dict(width=0)),\n",
    "name=\"This Study Positive\"),\n",
    "row=1, col=1)\n",
    "\n",
    "\n",
    "# TT age \n",
    "fig.add_trace(go.Bar(\n",
    "x=tt_age_df['Age'],\n",
    "y=tt_age_df['% Total'],\n",
    "width=0.4,\n",
    "offset=0,\n",
    "marker_color=\"#56B4E9\",\n",
    "marker=dict(line=dict(width=0)),\n",
    "name=\"Baseline Total\"), \n",
    "             row=1, col=2)\n",
    "\n",
    "fig.add_trace(go.Bar(\n",
    "x=tt_age_df['Age'],\n",
    "y=tt_age_df['% Positive'],\n",
    "width=0.4,\n",
    "offset=0,\n",
    "marker_color=\"#0072B2\",\n",
    "marker=dict(line=dict(width=0)),\n",
    "name=\"Baseline Positive\"),\n",
    "             row=1, col=2)\n",
    "\n",
    "\n",
    "fig.add_trace(go.Bar(\n",
    "x=bam_tt_age_df['Age'],\n",
    "y=bam_tt_age_df['% Total'],\n",
    "width=0.4,\n",
    "offset=-0.4,\n",
    "showlegend=False,\n",
    "marker_color=\"#E69F00\",\n",
    "marker=dict(line=dict(width=0)),\n",
    "name=\"This Study Total\"),\n",
    "row=1, col=2)\n",
    "\n",
    "\n",
    "fig.add_trace(go.Bar(\n",
    "x=bam_pos_tt_age_df['Age'],\n",
    "y=bam_pos_tt_age_df['% Positive'],\n",
    "width=0.4,\n",
    "offset=-0.4,\n",
    "showlegend=False,\n",
    "marker_color=\"#D55E00\",\n",
    "marker=dict(line=dict(width=0)),\n",
    "name=\"This Study Positive\"),\n",
    "row=1, col=2)\n",
    "\n",
    "\n",
    "# REACT age \n",
    "fig.add_trace(go.Bar(\n",
    "x=react_age_df['Age'],\n",
    "y=react_age_df['% Total'],\n",
    "width=0.4,\n",
    "offset=0,\n",
    "showlegend=False,\n",
    "marker_color=\"#56B4E9\",\n",
    "marker=dict(line=dict(width=0)),\n",
    "name=\"REACT Study Total\"), \n",
    "             row=1, col=3)\n",
    "\n",
    "fig.add_trace(go.Bar(\n",
    "x=react_age_df['Age'],\n",
    "y=react_age_df['% Positive'],\n",
    "width=0.4,\n",
    "offset=0,\n",
    "showlegend=False,\n",
    "marker_color=\"#0072B2\",\n",
    "marker=dict(line=dict(width=0)),\n",
    "name=\"REACT Study Positive\"),\n",
    "             row=1, col=3)\n",
    "\n",
    "\n",
    "fig.add_trace(go.Bar(\n",
    "x=bam_react_age_df['Age'],\n",
    "y=bam_react_age_df['% Total'],\n",
    "width=0.4,\n",
    "offset=-0.4,\n",
    "showlegend=False,\n",
    "marker_color=\"#E69F00\",\n",
    "marker=dict(line=dict(width=0)),\n",
    "name=\"This Study Total (REACT recruited)\"),\n",
    "row=1, col=3)\n",
    "\n",
    "fig.add_trace(go.Bar(\n",
    "x=bam_pos_react_age_df['Age'],\n",
    "y=bam_pos_react_age_df['% Positive'],\n",
    "width=0.4,\n",
    "offset=-0.4,\n",
    "marker_color=\"#D55E00\",\n",
    "marker=dict(line=dict(width=0)),\n",
    "showlegend=False,\n",
    "name=\"This Study Positive (REACT recruited)\"),\n",
    "row=1, col=3)\n",
    "\n",
    "\n",
    "# Census gender\n",
    "fig.add_trace(go.Bar(\n",
    "x=census_gender_df['Gender'],\n",
    "y=census_gender_df['% Total'],\n",
    "width=0.4,\n",
    "offset=0,\n",
    "showlegend=False,\n",
    "marker_color=\"#56B4E9\",\n",
    "marker=dict(line=dict(width=0)),\n",
    "name=\"Census Total\"), \n",
    "             row=2, col=1)\n",
    "\n",
    "\n",
    "fig.add_trace(go.Bar(\n",
    "x=bam_total_gender_df['Gender'],\n",
    "y=bam_total_gender_df['% Total'],\n",
    "width=0.4,\n",
    "offset=-0.4,\n",
    "showlegend=False,\n",
    "marker_color=\"#E69F00\",\n",
    "marker=dict(line=dict(width=0)),\n",
    "name=\"This Study\"),\n",
    "row=2, col=1)\n",
    "\n",
    "fig.add_trace(go.Bar(\n",
    "x=bam_pos_total_gender_df['Gender'],\n",
    "y=bam_pos_total_gender_df['% Positive'],\n",
    "width=0.4,\n",
    "offset=-0.4,\n",
    "showlegend=False,\n",
    "marker_color=\"#D55E00\",\n",
    "marker=dict(line=dict(width=0)),\n",
    "name=\"This Study\"),\n",
    "row=2, col=1)\n",
    "\n",
    "\n",
    "# TT gender\n",
    "fig.add_trace(go.Bar(\n",
    "x=tt_gender_df['Gender'],\n",
    "y=tt_gender_df['% Total'],\n",
    "width=0.4,\n",
    "offset=0,\n",
    "showlegend=False,\n",
    "marker_color=\"#56B4E9\",\n",
    "marker=dict(line=dict(width=0)),\n",
    "name=\"NHS Test and Trace Total\"), \n",
    "             row=2, col=2)\n",
    "\n",
    "fig.add_trace(go.Bar(\n",
    "x=tt_gender_df['Gender'],\n",
    "y=tt_gender_df['% Positive'],\n",
    "width=0.4,\n",
    "offset=0,\n",
    "showlegend=False,\n",
    "marker_color=\"#0072B2\",\n",
    "marker=dict(line=dict(width=0)),\n",
    "name=\"NHS Test and Trace Positive\"),\n",
    "             row=2, col=2)\n",
    "\n",
    "\n",
    "fig.add_trace(go.Bar(\n",
    "x=bam_tt_gender_df['Gender'],\n",
    "y=bam_tt_gender_df['% Total'],\n",
    "width=0.4,\n",
    "offset=-0.4,\n",
    "showlegend=False,\n",
    "marker_color=\"#E69F00\",\n",
    "marker=dict(line=dict(width=0)),\n",
    "name=\"This Study Total (Test and Trace recruited)\"),\n",
    "row=2, col=2)\n",
    "\n",
    "fig.add_trace(go.Bar(\n",
    "x=bam_pos_tt_gender_df['Gender'],\n",
    "y=bam_pos_tt_gender_df['% Positive'],\n",
    "width=0.4,\n",
    "offset=-0.4,\n",
    "showlegend=False,\n",
    "marker_color=\"#D55E00\",\n",
    "marker=dict(line=dict(width=0)),\n",
    "name=\"This Study Positive (Test and Trace recruited)\"),\n",
    "row=2, col=2)\n",
    "\n",
    "\n",
    "# REACT gender\n",
    "fig.add_trace(go.Bar(\n",
    "x=react_gender_df['Gender'],\n",
    "y=react_gender_df['% Total'],\n",
    "width=0.4,\n",
    "offset=0,\n",
    "showlegend=False,\n",
    "marker_color=\"#56B4E9\",\n",
    "marker=dict(line=dict(width=0)),\n",
    "name=\"REACT Study Total\"),\n",
    "             row=2, col=3)\n",
    "\n",
    "fig.add_trace(go.Bar(\n",
    "x=react_gender_df['Gender'],\n",
    "y=react_gender_df['% Positive'],\n",
    "width=0.4,\n",
    "offset=0,\n",
    "showlegend=False,\n",
    "marker_color=\"#0072B2\",\n",
    "marker=dict(line=dict(width=0)),\n",
    "name=\"REACT Study Positive\"),\n",
    "             row=2, col=3)\n",
    "\n",
    "fig.add_trace(go.Bar(\n",
    "x=bam_react_gender_df['Gender'],\n",
    "y=bam_react_gender_df['% Total'],\n",
    "width=0.4,\n",
    "offset=-0.4,\n",
    "showlegend=False,\n",
    "marker_color=\"#E69F00\",\n",
    "marker=dict(line=dict(width=0)),\n",
    "name=\"This Study Total (REACT recruited)\"),\n",
    "row=2, col=3)\n",
    "\n",
    "fig.add_trace(go.Bar(\n",
    "x=bam_pos_react_gender_df['Gender'],\n",
    "y=bam_pos_react_gender_df['% Positive'],\n",
    "width=0.4,\n",
    "offset=-0.4,\n",
    "showlegend=False,\n",
    "marker_color=\"#D55E00\",\n",
    "marker=dict(line=dict(width=0)),\n",
    "name=\"This Study Positive (REACT recruited)\"),\n",
    "row=2, col=3)\n",
    "\n",
    "\n",
    "# REACT ethnicity\n",
    "fig.add_trace(go.Bar(\n",
    "x=react_ethnicity_df['Ethnicity'],\n",
    "y=react_ethnicity_df['% Total'],\n",
    "width=0.4,\n",
    "offset=0,\n",
    "showlegend=False, \n",
    "marker_color=\"#56B4E9\",\n",
    "marker=dict(line=dict(width=0)),\n",
    "name=\"REACT Study Total\"),\n",
    "             row=3, col=3)\n",
    "\n",
    "fig.add_trace(go.Bar(\n",
    "x=react_ethnicity_df['Ethnicity'],\n",
    "y=react_ethnicity_df['% Positive'],\n",
    "width=0.4,\n",
    "offset=0,\n",
    "showlegend=False,\n",
    "marker_color=\"#0072B2\",\n",
    "marker=dict(line=dict(width=0)),\n",
    "name=\"REACT Study Positive\"),\n",
    "             row=3, col=3)\n",
    "\n",
    "\n",
    "fig.add_trace(go.Bar(\n",
    "x=bam_pos_react_ethnicity_df['Ethnicity'],\n",
    "y=bam_pos_react_ethnicity_df['% Positive'],\n",
    "width=0.4,\n",
    "offset=-0.4,\n",
    "showlegend=False,\n",
    "marker_color=\"#D55E00\",\n",
    "marker=dict(line=dict(width=0)),\n",
    "name=\"This Study Positive (REACT recruited)\"),\n",
    "row=3, col=3)\n",
    "\n",
    "fig.add_trace(go.Bar(\n",
    "x=bam_react_ethnicity_df['Ethnicity'],\n",
    "y=bam_react_ethnicity_df['% Total'],\n",
    "width=0.4,\n",
    "offset=-0.4,\n",
    "showlegend=False,\n",
    "marker_color=\"#E69F00\",\n",
    "marker=dict(line=dict(width=0)),\n",
    "name=\"This Study Total (REACT recruited)\"),\n",
    "row=3, col=3)\n",
    "\n",
    "\n",
    "# Census region\n",
    "fig.add_trace(go.Bar(\n",
    "x=census_region_df['Region'],\n",
    "y=census_region_df['% Total'],\n",
    "width=0.4,\n",
    "offset=0,\n",
    "showlegend=False,\n",
    "marker_color=\"#56B4E9\",\n",
    "marker=dict(line=dict(width=0)),\n",
    "name=\"Census Total\"), \n",
    "             row=4, col=1)\n",
    "\n",
    "\n",
    "fig.add_trace(go.Bar(\n",
    "x=bam_total_region_df['Region'],\n",
    "y=bam_total_region_df['% Total'],\n",
    "width=0.4,\n",
    "offset=-0.4,\n",
    "showlegend=False,\n",
    "marker_color=\"#E69F00\",\n",
    "marker=dict(line=dict(width=0)),\n",
    "name=\"This Study\"),\n",
    "row=4, col=1)\n",
    "\n",
    "fig.add_trace(go.Bar(\n",
    "x=bam_pos_total_region_df['Region'],\n",
    "y=bam_pos_total_region_df['% Positive'],\n",
    "width=0.4,\n",
    "offset=-0.4,\n",
    "showlegend=False,\n",
    "marker_color=\"#D55E00\",\n",
    "marker=dict(line=dict(width=0)),\n",
    "name=\"This Study\"),\n",
    "row=4, col=1)\n",
    "\n",
    "\n",
    "# TT region\n",
    "fig.add_trace(go.Bar(\n",
    "x=tt_region_df['Region'],\n",
    "y=tt_region_df['% Total'],\n",
    "width=0.4,\n",
    "offset=0,\n",
    "marker_color=\"#56B4E9\",\n",
    "marker=dict(line=dict(width=0)),\n",
    "showlegend=False,\n",
    "name=\"REACT Study Total\"),\n",
    "             row=4, col=2)\n",
    "\n",
    "fig.add_trace(go.Bar(\n",
    "x=tt_region_df['Region'],\n",
    "y=tt_region_df['% Positive'],\n",
    "width=0.4,\n",
    "offset=0,\n",
    "marker_color=\"#0072B2\",\n",
    "marker=dict(line=dict(width=0)),\n",
    "showlegend=False,\n",
    "name=\"REACT Study Positive\"),\n",
    "             row=4, col=2)\n",
    "\n",
    "\n",
    "fig.add_trace(go.Bar(\n",
    "x=bam_tt_region_df['Region'],\n",
    "y=bam_tt_region_df['% Total'],\n",
    "width=0.4,\n",
    "offset=-0.4,\n",
    "marker_color=\"#E69F00\",\n",
    "marker=dict(line=dict(width=0)),\n",
    "showlegend=False,\n",
    "name=\"This Study Positive (REACT recruited)\"),\n",
    "row=4, col=2)\n",
    "\n",
    "fig.add_trace(go.Bar(\n",
    "x=bam_pos_tt_region_df['Region'],\n",
    "y=bam_pos_tt_region_df['% Positive'],\n",
    "width=0.4,\n",
    "offset=-0.4,\n",
    "marker_color=\"#D55E00\",\n",
    "marker=dict(line=dict(width=0)),\n",
    "showlegend=False,\n",
    "name=\"This Study Total (REACT recruited)\"),\n",
    "row=4, col=2)\n",
    "\n",
    "\n",
    "\n",
    "# REACT region\n",
    "fig.add_trace(go.Bar(\n",
    "x=react_region_df['Region'],\n",
    "y=react_region_df['% Total'],\n",
    "width=0.4,\n",
    "offset=0,\n",
    "marker_color=\"#56B4E9\",\n",
    "marker=dict(line=dict(width=0)),\n",
    "showlegend=False,\n",
    "name=\"REACT Study Total\"),\n",
    "             row=4, col=3)\n",
    "\n",
    "fig.add_trace(go.Bar(\n",
    "x=react_region_df['Region'],\n",
    "y=react_region_df['% Positive'],\n",
    "width=0.4,\n",
    "offset=0,\n",
    "marker_color=\"#0072B2\",\n",
    "marker=dict(line=dict(width=0)),\n",
    "showlegend=False,\n",
    "name=\"REACT Study Positive\"),\n",
    "             row=4, col=3)\n",
    "\n",
    "fig.add_trace(go.Bar(\n",
    "x=bam_react_region_df['Region'],\n",
    "y=bam_react_region_df['% Total'],\n",
    "width=0.4,\n",
    "offset=-0.4,\n",
    "marker_color=\"#E69F00\",\n",
    "marker=dict(line=dict(width=0)),\n",
    "showlegend=False,\n",
    "name=\"This Study Total (REACT recruited)\"),\n",
    "row=4, col=3)\n",
    "\n",
    "fig.add_trace(go.Bar(\n",
    "x=bam_pos_react_region_df['Region'],\n",
    "y=bam_pos_react_region_df['% Positive'],\n",
    "width=0.4,\n",
    "offset=-0.4,\n",
    "marker_color=\"#D55E00\",\n",
    "marker=dict(line=dict(width=0)),\n",
    "showlegend=False,\n",
    "name=\"This Study Positive (REACT recruited)\"),\n",
    "row=4, col=3)\n",
    "\n",
    "\n",
    "\n",
    "fig.update_xaxes(title='Age Group', row=1)\n",
    "fig.update_yaxes(range=[0,26], row=1)\n",
    "fig.update_xaxes(title='Gender', row=2)\n",
    "fig.update_yaxes(range=[0, 60], row=2)\n",
    "fig.update_xaxes(title='Ethnicity', row=3)\n",
    "fig.update_xaxes(title='Region', row=4)\n",
    "fig.update_yaxes(range=[0, 20], row=4)\n",
    "fig.update_xaxes(tickangle = 45, title_standoff = 5)\n",
    "fig.update_yaxes(title='% of Total')\n",
    "\n",
    "fig.layout.annotations[0].update(y=1.07)\n",
    "fig.layout.annotations[1].update(y=1.07)\n",
    "fig.layout.annotations[2].update(y=1.07)\n",
    "fig.update_layout(template='simple_white', font_family='Arial', font_size=14, height=850, width=1000)"
   ]
  },
  {
   "cell_type": "code",
   "execution_count": null,
   "id": "774ceaa9",
   "metadata": {},
   "outputs": [],
   "source": [
    "fig.write_image(\"DataPaperFig4.svg\", scale=1)\n",
    "fig.write_image(\"DataPaperFig4.png\", scale=3)"
   ]
  }
 ],
 "metadata": {
  "kernelspec": {
   "display_name": "conda_python3",
   "language": "python",
   "name": "conda_python3"
  },
  "language_info": {
   "codemirror_mode": {
    "name": "ipython",
    "version": 3
   },
   "file_extension": ".py",
   "mimetype": "text/x-python",
   "name": "python",
   "nbconvert_exporter": "python",
   "pygments_lexer": "ipython3",
   "version": "3.6.13"
  }
 },
 "nbformat": 4,
 "nbformat_minor": 5
}
